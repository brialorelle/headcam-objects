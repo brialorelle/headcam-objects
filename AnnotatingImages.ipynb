{
  "nbformat": 4,
  "nbformat_minor": 0,
  "metadata": {
    "colab": {
      "name": "AnnotatingImages.ipynb",
      "provenance": [],
      "authorship_tag": "ABX9TyMHliWCc+K2A2DIDr3qyZ5d",
      "include_colab_link": true
    },
    "kernelspec": {
      "name": "python3",
      "display_name": "Python 3"
    }
  },
  "cells": [
    {
      "cell_type": "markdown",
      "metadata": {
        "id": "view-in-github",
        "colab_type": "text"
      },
      "source": [
        "<a href=\"https://colab.research.google.com/github/brialorelle/headcam-objects/blob/master/AnnotatingImages.ipynb\" target=\"_parent\"><img src=\"https://colab.research.google.com/assets/colab-badge.svg\" alt=\"Open In Colab\"/></a>"
      ]
    },
    {
      "cell_type": "markdown",
      "metadata": {
        "id": "zVukuI8BS0ug"
      },
      "source": [
        "# Import Packages"
      ]
    },
    {
      "cell_type": "code",
      "metadata": {
        "id": "3wEpWUsiKRKr"
      },
      "source": [
        "import numpy as np\n",
        "import pandas as pd\n",
        "import csv\n",
        "import urllib.request\n",
        "import requests\n",
        "from io import BytesIO\n",
        "from PIL import Image\n",
        "import matplotlib.pyplot as plt\n",
        "import pickle"
      ],
      "execution_count": 29,
      "outputs": []
    },
    {
      "cell_type": "markdown",
      "metadata": {
        "id": "7If_XWcFSy82"
      },
      "source": [
        "# Load URL List + Initialize Loops"
      ]
    },
    {
      "cell_type": "code",
      "metadata": {
        "id": "GgGGzbRCIWpj"
      },
      "source": [
        "# read in list of urls\n",
        "def loadList(csvFile):\n",
        "    # define an empty list\n",
        "    words = []\n",
        "    \n",
        "    # open file and read the content into a list\n",
        "    csvFile = urllib.request.urlopen(csvFile)\n",
        "    # csvreader = csv.reader(csvFile, delimiter=' ', quotechar='|')\n",
        "    for line in csvFile:\n",
        "      decoded_line = line.decode(\"utf-8\")\n",
        "\n",
        "      # remove linebreak which is the last character of the string\n",
        "      currentWord = decoded_line[:-1]\n",
        "      #print(', '.join(row))\n",
        "      # add item to the list\n",
        "      words.append(currentWord)\n",
        "\n",
        "    words = list(set(words))\n",
        "    words.sort() #alphabetize\n",
        "    words.insert(0, 'other / label not found')\n",
        "    return words"
      ],
      "execution_count": 4,
      "outputs": []
    },
    {
      "cell_type": "code",
      "metadata": {
        "id": "0ducrr7PKFce"
      },
      "source": [
        "childHands = loadList('https://raw.githubusercontent.com/brialorelle/headcam-objects/master/data/child_hands.csv')"
      ],
      "execution_count": 24,
      "outputs": []
    },
    {
      "cell_type": "code",
      "metadata": {
        "colab": {
          "base_uri": "https://localhost:8080/",
          "height": 35
        },
        "id": "dFpC3m2OOWe0",
        "outputId": "ba6f6d5b-ce5a-4dfc-a9df-80fca591c26d"
      },
      "source": [
        "# remove first string (not url) from list\n",
        "childHands.pop(0)"
      ],
      "execution_count": 25,
      "outputs": [
        {
          "output_type": "execute_result",
          "data": {
            "application/vnd.google.colaboratory.intrinsic+json": {
              "type": "string"
            },
            "text/plain": [
              "'other / label not found'"
            ]
          },
          "metadata": {
            "tags": []
          },
          "execution_count": 25
        }
      ]
    },
    {
      "cell_type": "code",
      "metadata": {
        "colab": {
          "base_uri": "https://localhost:8080/"
        },
        "id": "_TDyWOVfOjgT",
        "outputId": "a86526cd-59f9-4cb7-f9fc-35f78f9f1d2d"
      },
      "source": [
        "# how many should each person do?\n",
        "len(childHands)/3"
      ],
      "execution_count": 26,
      "outputs": [
        {
          "output_type": "execute_result",
          "data": {
            "text/plain": [
              "1017.0"
            ]
          },
          "metadata": {
            "tags": []
          },
          "execution_count": 26
        }
      ]
    },
    {
      "cell_type": "code",
      "metadata": {
        "id": "BPL6nEIPIF-B"
      },
      "source": [
        "# initialize dictionary\n",
        "hands_obj_labeled = {}"
      ],
      "execution_count": 27,
      "outputs": []
    },
    {
      "cell_type": "markdown",
      "metadata": {
        "id": "Xi982gRASHS5"
      },
      "source": [
        "# Labeling conventions as a reminder:\n",
        "\n",
        "1.   Basic-level (i.e. “bird’ not “cardinal”)\n",
        "2.   Max two words if possible\n",
        "3.   Refer to [Naiti’s list](https://github.com/brialorelle/headcam-objects/blob/master/analysis/mturk_naiti/object_list.txt)\n",
        "4.   No special characters; lowercase if possible\n",
        "5.   Label views containing Sam as “allocentric”\n",
        "6.   When interacting with something but can’t identify, label “unknown object”\n",
        "7.   When not interacting with something, label “no object”\n",
        "8.   When no child hand is present or if it is that of another child,  label “no child hands”\n",
        "\n"
      ]
    },
    {
      "cell_type": "markdown",
      "metadata": {
        "id": "zScunlFON0Kl"
      },
      "source": [
        "After annotating, upload pkl to github and I (Naiti) can compile and output to a csv!\n",
        "\n"
      ]
    },
    {
      "cell_type": "markdown",
      "metadata": {
        "id": "slyJi_HuSu9O"
      },
      "source": [
        "# Annotation Loops"
      ]
    },
    {
      "cell_type": "code",
      "metadata": {
        "id": "YBpLfNTmM6bu"
      },
      "source": [
        "# Bria Annotations\n",
        "# count to 1017\n",
        "for url in childHands[:1017]:\n",
        "  response = requests.get(url)\n",
        "  img = Image.open(BytesIO(response.content))\n",
        "  im = np.array(img, dtype=np.uint8)\n",
        "  # create figure and display the image\n",
        "  plt.figure()\n",
        "  plt.imshow(im)\n",
        "  plt.show()\n",
        "  annotation = input('What is the child pointing to? \\n')\n",
        "  hands_obj_labeled[url] = annotation\n",
        "# write dict out to a file\n",
        "output = open('briaHandsObjLabeled.pkl', 'wb')\n",
        "pickle.dump(hands_obj_labeled, output)\n",
        "output.close()"
      ],
      "execution_count": null,
      "outputs": []
    },
    {
      "cell_type": "code",
      "metadata": {
        "id": "Bz8QfCjKM_j2"
      },
      "source": [
        "# George Annotations\n",
        "# 1018 - 2034\n",
        "for url in childHands[1018:2034]:\n",
        "  response = requests.get(url)\n",
        "  img = Image.open(BytesIO(response.content))\n",
        "  im = np.array(img, dtype=np.uint8)\n",
        "  # create figure and display the image\n",
        "  plt.figure()\n",
        "  plt.imshow(im)\n",
        "  plt.show()\n",
        "  annotation = input('What is the child pointing to? \\n')\n",
        "  hands_obj_labeled[url] = annotation\n",
        "# write dict out to a file\n",
        "output = open('georgeHandsObjLabeled.pkl', 'wb')\n",
        "pickle.dump(hands_obj_labeled, output)\n",
        "output.close()"
      ],
      "execution_count": null,
      "outputs": []
    },
    {
      "cell_type": "code",
      "metadata": {
        "id": "TEANnsxDNHQK"
      },
      "source": [
        "# Naiti Annotations\n",
        "# last bit\n",
        "for url in childHands[2035:]:\n",
        "  response = requests.get(url)\n",
        "  img = Image.open(BytesIO(response.content))\n",
        "  im = np.array(img, dtype=np.uint8)\n",
        "  # create figure and display the image\n",
        "  plt.figure()\n",
        "  plt.imshow(im)\n",
        "  plt.show()\n",
        "  annotation = input('What is the child pointing to? \\n')\n",
        "  hands_obj_labeled[url] = annotation\n",
        "# write answers review dict out to a file\n",
        "output = open('naitiHandsObjLabeled.pkl', 'wb')\n",
        "pickle.dump(hands_obj_labeled, output)\n",
        "output.close()"
      ],
      "execution_count": null,
      "outputs": []
    }
  ]
}