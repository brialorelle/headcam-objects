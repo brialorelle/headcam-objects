version https://git-lfs.github.com/spec/v1
oid sha256:d51adf2688b9fa4b5193464956dada34634e4811c633351c21a02abec92c67fb
size 13691
