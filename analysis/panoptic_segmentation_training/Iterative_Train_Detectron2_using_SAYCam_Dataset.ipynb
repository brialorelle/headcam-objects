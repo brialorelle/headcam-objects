version https://git-lfs.github.com/spec/v1
oid sha256:60612151477010a199be2e626e824c759ff003babb0482cfed7a9ea35d63bd95
size 346060019
