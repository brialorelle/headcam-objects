version https://git-lfs.github.com/spec/v1
oid sha256:27c66ef8889ccbe047fe4c32b23a2fabec2d45827230c97725ee82c8326fa56e
size 3827
