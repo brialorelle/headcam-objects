{
  "nbformat": 4,
  "nbformat_minor": 0,
  "metadata": {
    "colab": {
      "name": "COCOTrainTestSplit.ipynb",
      "provenance": [],
      "collapsed_sections": []
    },
    "kernelspec": {
      "name": "python3",
      "display_name": "Python 3"
    },
    "language_info": {
      "name": "python"
    }
  },
  "cells": [
    {
      "cell_type": "markdown",
      "source": [
        "# Split COCO JSON Format image data into Training and Testing subsets"
      ],
      "metadata": {
        "id": "T8SUa0u2Km4t"
      }
    },
    {
      "cell_type": "code",
      "source": [
        "data_path = \"combined_segmentations.json\""
      ],
      "metadata": {
        "id": "XxMXtF6jK-h1"
      },
      "execution_count": null,
      "outputs": []
    },
    {
      "cell_type": "markdown",
      "metadata": {
        "id": "yJIkf05jxv31"
      },
      "source": [
        "Modified from https://github.com/akarazniewicz/cocosplit/blob/master/cocosplit.py"
      ]
    },
    {
      "cell_type": "code",
      "metadata": {
        "colab": {
          "base_uri": "https://localhost:8080/"
        },
        "id": "2HETZxQv03Go",
        "outputId": "4388acaf-2c59-4acc-b221-410d57defe15"
      },
      "source": [
        "!pip install funcy"
      ],
      "execution_count": null,
      "outputs": [
        {
          "output_type": "stream",
          "text": [
            "Collecting funcy\n",
            "  Downloading https://files.pythonhosted.org/packages/66/89/479de0afbbfb98d1c4b887936808764627300208bb771fcd823403645a36/funcy-1.15-py2.py3-none-any.whl\n",
            "Installing collected packages: funcy\n",
            "Successfully installed funcy-1.15\n"
          ],
          "name": "stdout"
        }
      ]
    },
    {
      "cell_type": "code",
      "metadata": {
        "id": "QI8JzUsWzdHF"
      },
      "source": [
        "import json\n",
        "import funcy\n",
        "from sklearn.model_selection import train_test_split"
      ],
      "execution_count": null,
      "outputs": []
    },
    {
      "cell_type": "code",
      "metadata": {
        "id": "SDEZBPdRxpVT"
      },
      "source": [
        "def save_coco(file, images, annotations, categories):\n",
        "    with open(file, 'wt', encoding='UTF-8') as coco:\n",
        "        json.dump({ 'images': images, 'annotations': annotations, 'categories': categories}, coco, indent=2, sort_keys=True)\n",
        "\n",
        "def filter_annotations(annotations, images):\n",
        "    image_ids = funcy.lmap(lambda i: int(i['id']), images)\n",
        "    return funcy.lfilter(lambda a: int(a['image_id']) in image_ids, annotations)"
      ],
      "execution_count": null,
      "outputs": []
    },
    {
      "cell_type": "code",
      "metadata": {
        "id": "eK1x0F1izZRT"
      },
      "source": [
        "with open(data_path, 'rt', encoding='UTF-8') as annotations:\n",
        "    coco = json.load(annotations)\n",
        "    #info = coco['info']\n",
        "    #licenses = coco['licenses']\n",
        "    images = coco['images']\n",
        "    annotations = coco['annotations']\n",
        "    categories = coco['categories']\n",
        "    number_of_images = len(images)\n",
        "\n",
        "    images_with_annotations = funcy.lmap(lambda a: int(a['image_id']), annotations)\n",
        "\n",
        "    images = funcy.lremove(lambda i: i['id'] not in images_with_annotations, images)\n",
        "\n",
        "    x, y = train_test_split(images, train_size=0.8)\n",
        "\n",
        "    save_coco(\"bigtrain/set10.json\", x, filter_annotations(annotations, x), categories)\n",
        "    save_coco(\"bigtest/set10.json\", y, filter_annotations(annotations, y), categories)"
      ],
      "execution_count": null,
      "outputs": []
    }
  ]
}