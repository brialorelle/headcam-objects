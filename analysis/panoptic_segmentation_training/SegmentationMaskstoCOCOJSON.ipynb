{
  "cells": [
    {
      "cell_type": "markdown",
      "metadata": {
        "id": "y_2PCzzOoXjO"
      },
      "source": [
        "# Import libraries + Initialize global variables"
      ]
    },
    {
      "cell_type": "code",
      "execution_count": null,
      "metadata": {
        "id": "oeKpcbz9kXVM",
        "vscode": {
          "languageId": "python"
        }
      },
      "outputs": [],
      "source": [
        "import base64\n",
        "from PIL import Image\n",
        "from io import BytesIO\n",
        "import json\n",
        "import numpy as np\n",
        "import matplotlib.pyplot as plt\n",
        "import matplotlib.patches as patches\n",
        "import requests\n",
        "import pandas as pd\n",
        "import urllib\n",
        "import requests"
      ]
    },
    {
      "cell_type": "code",
      "execution_count": null,
      "metadata": {
        "colab": {
          "base_uri": "https://localhost:8080/",
          "height": 514
        },
        "id": "Ved1XkZ_dUXt",
        "outputId": "8777c74f-57c0-49ff-b6b8-8e6a6bd91b7b",
        "vscode": {
          "languageId": "python"
        }
      },
      "outputs": [
        {
          "name": "stdout",
          "output_type": "stream",
          "text": [
            "Collecting boto3\n",
            "\u001b[?25l  Downloading https://files.pythonhosted.org/packages/ea/10/a997a266165e2df1976c4fc973f71bcd2e65a255f92d0ff7ab59b2f81989/boto3-1.17.44-py2.py3-none-any.whl (131kB)\n",
            "\u001b[K     |████████████████████████████████| 133kB 8.3MB/s \n",
            "\u001b[?25hCollecting botocore<1.21.0,>=1.20.44\n",
            "\u001b[?25l  Downloading https://files.pythonhosted.org/packages/64/80/3ddbe4ad2561804b887deb8072d802dc24dd759833139a5b91efcff308d6/botocore-1.20.44-py2.py3-none-any.whl (7.4MB)\n",
            "\u001b[K     |████████████████████████████████| 7.4MB 10.9MB/s \n",
            "\u001b[?25hCollecting jmespath<1.0.0,>=0.7.1\n",
            "  Downloading https://files.pythonhosted.org/packages/07/cb/5f001272b6faeb23c1c9e0acc04d48eaaf5c862c17709d20e3469c6e0139/jmespath-0.10.0-py2.py3-none-any.whl\n",
            "Collecting s3transfer<0.4.0,>=0.3.0\n",
            "\u001b[?25l  Downloading https://files.pythonhosted.org/packages/98/14/0b4be62b65c52d6d1c442f24e02d2a9889a73d3c352002e14c70f84a679f/s3transfer-0.3.6-py2.py3-none-any.whl (73kB)\n",
            "\u001b[K     |████████████████████████████████| 81kB 10.0MB/s \n",
            "\u001b[?25hRequirement already satisfied: python-dateutil<3.0.0,>=2.1 in /usr/local/lib/python3.7/dist-packages (from botocore<1.21.0,>=1.20.44->boto3) (2.8.1)\n",
            "Collecting urllib3<1.27,>=1.25.4\n",
            "\u001b[?25l  Downloading https://files.pythonhosted.org/packages/09/c6/d3e3abe5b4f4f16cf0dfc9240ab7ce10c2baa0e268989a4e3ec19e90c84e/urllib3-1.26.4-py2.py3-none-any.whl (153kB)\n",
            "\u001b[K     |████████████████████████████████| 153kB 51.3MB/s \n",
            "\u001b[?25hRequirement already satisfied: six>=1.5 in /usr/local/lib/python3.7/dist-packages (from python-dateutil<3.0.0,>=2.1->botocore<1.21.0,>=1.20.44->boto3) (1.15.0)\n",
            "\u001b[31mERROR: requests 2.23.0 has requirement urllib3!=1.25.0,!=1.25.1,<1.26,>=1.21.1, but you'll have urllib3 1.26.4 which is incompatible.\u001b[0m\n",
            "\u001b[31mERROR: datascience 0.10.6 has requirement folium==0.2.1, but you'll have folium 0.8.3 which is incompatible.\u001b[0m\n",
            "Installing collected packages: jmespath, urllib3, botocore, s3transfer, boto3\n",
            "  Found existing installation: urllib3 1.24.3\n",
            "    Uninstalling urllib3-1.24.3:\n",
            "      Successfully uninstalled urllib3-1.24.3\n",
            "Successfully installed boto3-1.17.44 botocore-1.20.44 jmespath-0.10.0 s3transfer-0.3.6 urllib3-1.26.4\n"
          ]
        },
        {
          "data": {
            "application/vnd.colab-display-data+json": {
              "pip_warning": {
                "packages": [
                  "urllib3"
                ]
              }
            }
          },
          "metadata": {
            "tags": []
          },
          "output_type": "display_data"
        }
      ],
      "source": [
        "!pip install boto3\n",
        "import boto3"
      ]
    },
    {
      "cell_type": "code",
      "execution_count": null,
      "metadata": {
        "vscode": {
          "languageId": "python"
        }
      },
      "outputs": [],
      "source": [
        "data_file1 = 'output_big_pilot.manifest'\n",
        "data_file2 = 'output_big.manifest'\n",
        "image_root = 'http://langcog.stanford.edu/expts/saycam/frames/' "
      ]
    },
    {
      "cell_type": "markdown",
      "metadata": {
        "id": "DyM0GMeHoM1j"
      },
      "source": [
        "# Helper functions"
      ]
    },
    {
      "cell_type": "code",
      "execution_count": null,
      "metadata": {
        "id": "H6eaVCjWntrX",
        "vscode": {
          "languageId": "python"
        }
      },
      "outputs": [],
      "source": [
        "def convertToImage(base64encoding):\n",
        "  im = Image.open(BytesIO(base64.b64decode(data)))\n",
        "  return im"
      ]
    },
    {
      "cell_type": "markdown",
      "metadata": {
        "id": "oijc5P0B0Ldr"
      },
      "source": [
        "HEX to RGB from https://gist.github.com/matthewkremer/3295567\n"
      ]
    },
    {
      "cell_type": "code",
      "execution_count": null,
      "metadata": {
        "id": "ywj3nVS20K8l",
        "vscode": {
          "languageId": "python"
        }
      },
      "outputs": [],
      "source": [
        "def hex_to_rgb(hex):\n",
        "     hex = hex.lstrip('#')\n",
        "     hlen = len(hex)\n",
        "     return tuple(int(hex[i:i+hlen//3], 16) for i in range(0, hlen, hlen//3))"
      ]
    },
    {
      "cell_type": "markdown",
      "metadata": {
        "id": "xe_7F41Ux6Oj"
      },
      "source": [
        "Convert image to mask image\n",
        "Tutorial: https://www.kite.com/python/answers/how-get-the-rgb-values-of-an-image-using-pil-in-python"
      ]
    },
    {
      "cell_type": "markdown",
      "metadata": {
        "id": "0ghUSZW6nvHu"
      },
      "source": [
        "# Helper functions from creating COCO annotations tutorial\n",
        "Tutorial: https://www.immersivelimit.com/tutorials/create-coco-annotations-from-scratch"
      ]
    },
    {
      "cell_type": "code",
      "execution_count": null,
      "metadata": {
        "id": "SmbK_zJlnqzn",
        "vscode": {
          "languageId": "python"
        }
      },
      "outputs": [],
      "source": [
        "from PIL import Image\n",
        "def create_sub_masks(mask_image):\n",
        "    rgb_im = mask_image.convert('RGB')\n",
        "    width, height = mask_image.size\n",
        "    # Initialize a dictionary of sub-masks indexed by RGB colors\n",
        "    sub_masks = {}\n",
        "    for x in range(width):\n",
        "        for y in range(height):\n",
        "            # Get the RGB values of the pixel\n",
        "            pixel = rgb_im.getpixel((x,y))[:3]\n",
        "            # If the pixel is not black...\n",
        "            if pixel != (255, 255, 255):\n",
        "                # Check to see if we've created a sub-mask...\n",
        "                pixel_str = str(pixel)\n",
        "                sub_mask = sub_masks.get(pixel_str)\n",
        "                if sub_mask is None:\n",
        "                   # Create a sub-mask (one bit per pixel) and add to the dictionary\n",
        "                    # Note: we add 1 pixel of padding in each direction\n",
        "                    # because the contours module doesn't handle cases\n",
        "                    # where pixels bleed to the edge of the image\n",
        "                    sub_masks[pixel_str] = Image.new('1', (width+2, height+2))\n",
        "\n",
        "                # Set the pixel value to 1 (default is 0), accounting for padding\n",
        "                sub_masks[pixel_str].putpixel((x+1, y+1), 1)\n",
        "\n",
        "    return sub_masks"
      ]
    },
    {
      "cell_type": "code",
      "execution_count": null,
      "metadata": {
        "id": "9cv4qRDZPwz6",
        "vscode": {
          "languageId": "python"
        }
      },
      "outputs": [],
      "source": [
        "def makeAnn(segmentations, polygons):\n",
        "    # Combine the polygons to calculate the bounding box and area\n",
        "    multi_poly = MultiPolygon(polygons)\n",
        "    if multi_poly.is_empty:\n",
        "      x = 0\n",
        "      y = 0\n",
        "      max_x = 0\n",
        "      max_y = 0\n",
        "    else:\n",
        "      x, y, max_x, max_y = multi_poly.bounds\n",
        "    width = max_x - x\n",
        "    height = max_y - y\n",
        "    bbox = (x, y, width, height)\n",
        "    area = multi_poly.area\n",
        "\n",
        "    annotation = {\n",
        "        'segmentation': segmentations,\n",
        "        'iscrowd': is_crowd,\n",
        "        'image_id': image_id,\n",
        "        'category_id': category_id,\n",
        "        'id': annotation_id,\n",
        "        'bbox': bbox,\n",
        "        'area': area\n",
        "    }\n",
        "\n",
        "    return annotation"
      ]
    },
    {
      "cell_type": "code",
      "execution_count": null,
      "metadata": {
        "id": "DruopOryn9Dv",
        "vscode": {
          "languageId": "python"
        }
      },
      "outputs": [],
      "source": [
        "import numpy as np                                 # (pip install numpy)\n",
        "from skimage import measure                        # (pip install scikit-image)\n",
        "from shapely.geometry import Polygon, MultiPolygon, Point # (pip install Shapely)\n",
        "\n",
        "def create_sub_mask_annotation(sub_mask, image_id, category_id, annotation_id, is_crowd):\n",
        "    # Find contours (boundary lines) around each sub-mask\n",
        "    # Note: there could be multiple contours if the object\n",
        "    # is partially occluded. (E.g. an elephant behind a tree)\n",
        "    contours = measure.find_contours(sub_mask, 0.5, positive_orientation='low')\n",
        "    segmentations = []\n",
        "    polygons = []\n",
        "    for contour in contours:\n",
        "        # Flip from (row, col) representation to (x, y)\n",
        "        # and subtract the padding pixel\n",
        "        for i in range(len(contour)):\n",
        "            row, col = contour[i]\n",
        "            contour[i] = (col - 1, row - 1)\n",
        "        # Make a polygon and simplify it\n",
        "        poly = Polygon(contour)\n",
        "        poly = poly.simplify(1.0, preserve_topology=False)\n",
        "        polygons.append(poly)\n",
        "        if poly.geom_type == \"MultiPolygon\":\n",
        "          segmentation = [list(x.exterior.coords) for x in poly.geoms]\n",
        "        elif poly.geom_type == 'Polygon':\n",
        "          # allparts = [p.buffer(0) for p in poly.geometry]\n",
        "          # poly.geometry = shapely.ops.cascaded_union(allparts)\n",
        "          out = poly.exterior.coords  # here happens the error\n",
        "          if out == []:\n",
        "            segmentation = []\n",
        "          else:\n",
        "            # x,y = out.xy\n",
        "            # segmentation = np.dstack((x,y)).ravel().tolist()\n",
        "            segmentation = np.array(poly.exterior.coords[:-1]).ravel().tolist()\n",
        "        segmentations.append(segmentation)\n",
        "    annotation = makeAnn(segmentations, polygons)\n",
        "    return annotation"
      ]
    },
    {
      "cell_type": "markdown",
      "metadata": {
        "id": "T8-02xdIX0BM"
      },
      "source": [
        "# Load Manifest File\n",
        "\n",
        "Many of the details in this section will have to change, depending on Sagemaker information.\n",
        "Note: we are combining two different manifest files to create our big dataset."
      ]
    },
    {
      "cell_type": "code",
      "execution_count": null,
      "metadata": {
        "id": "f5G62Bz4XVa9",
        "vscode": {
          "languageId": "python"
        }
      },
      "outputs": [],
      "source": [
        "import json\n",
        "from pprint import pprint\n",
        "\n",
        "with open(data_file1) as f:\n",
        "    data1 = json.loads(\"[\" + \n",
        "        f.read().replace(\"}\\n{\", \"},\\n{\") + \n",
        "    \"]\")"
      ]
    },
    {
      "cell_type": "code",
      "execution_count": null,
      "metadata": {
        "id": "j7I3gFErYC0q",
        "vscode": {
          "languageId": "python"
        }
      },
      "outputs": [],
      "source": [
        "import json\n",
        "from pprint import pprint\n",
        "\n",
        "with open(data_file2) as f:\n",
        "    data2 = json.loads(\"[\" + \n",
        "        f.read().replace(\"}\\n{\", \"},\\n{\") + \n",
        "    \"]\")"
      ]
    },
    {
      "cell_type": "code",
      "execution_count": null,
      "metadata": {
        "id": "96wrRGNHW8qk",
        "vscode": {
          "languageId": "python"
        }
      },
      "outputs": [],
      "source": [
        "images1 = {}\n",
        "annotations1 = {}\n",
        "id = 1\n",
        "classes1 = {}\n",
        "colors1 ={}\n",
        "taskName1 = 'saycam-panoptic-1000-images-ref'\n",
        "taskNameMetadata1 = 'saycam-panoptic-1000-images-ref-metadata'\n",
        "for frame in data1:\n",
        "  imagename = frame['source-ref'].split('/')[-1]\n",
        "  image_url = image_root + imagename\n",
        "  annotation = frame[taskNameMetadata1]['internal-color-map']\n",
        "  for catid, ann in annotation.items():\n",
        "    #if ann['confidence'] > 0.5:\n",
        "    annotations1[id] = annotation\n",
        "    images1[id] = {'url': image_url, 'maskImage': frame[taskName1]}\n",
        "  for key in frame[taskNameMetadata1]['internal-color-map']:\n",
        "    if key not in classes1.keys():\n",
        "      hex = frame[taskNameMetadata1]['internal-color-map'][key]['hex-color']\n",
        "      classes1[int(key)] = {'class-name': frame[taskNameMetadata1]['internal-color-map'][key]['class-name'], \n",
        "                           'hex-color': hex,\n",
        "                           'rgb': hex_to_rgb(hex)}\n",
        "    if int(key) == 0:\n",
        "      colors1[id] = {}\n",
        "    else:\n",
        "      colors1[id][str(classes1[int(key)]['rgb'])] = int(key)\n",
        "  id = id + 1"
      ]
    },
    {
      "cell_type": "code",
      "execution_count": null,
      "metadata": {
        "id": "orfsvIKdZHbY",
        "vscode": {
          "languageId": "python"
        }
      },
      "outputs": [],
      "source": [
        "images2 = {}\n",
        "annotations2 = {}\n",
        "classes2 = {}\n",
        "colors2 ={}\n",
        "taskName2 = 'saycam-panoptic-additional-images-fullset-ref'\n",
        "taskNameMetadata2 = 'saycam-panoptic-additional-images-fullset-ref-metadata'\n",
        "for frame in data2:\n",
        "  imagename = frame['source-ref'].split('/')[-1]\n",
        "  image_url = image_root + imagename\n",
        "  annotation = frame[taskNameMetadata2]['internal-color-map']\n",
        "  for catid, ann in annotation.items():\n",
        "    # if ann['confidence'] > 0.5:\n",
        "    annotations2[id] = annotation\n",
        "    images2[id] = {'url': image_url, 'maskImage': frame[taskName2]}\n",
        "  for key in frame[taskNameMetadata2]['internal-color-map']:\n",
        "    if key not in classes2.keys():\n",
        "      hex = frame[taskNameMetadata2]['internal-color-map'][key]['hex-color']\n",
        "      classes2[int(key)] = {'class-name': frame[taskNameMetadata2]['internal-color-map'][key]['class-name'], \n",
        "                           'hex-color': hex,\n",
        "                           'rgb': hex_to_rgb(hex)}\n",
        "    if int(key) == 0:\n",
        "      colors2[id] = {}\n",
        "    else:\n",
        "      colors2[id][str(classes2[int(key)]['rgb'])] = int(key)\n",
        "  id = id + 1"
      ]
    },
    {
      "cell_type": "code",
      "execution_count": null,
      "metadata": {
        "id": "l3tcTwSiIiy8",
        "vscode": {
          "languageId": "python"
        }
      },
      "outputs": [],
      "source": [
        "images = {}\n",
        "im2urls = []\n",
        "key = len(images2) + 1\n",
        "for key2, im2 in images2.items():\n",
        "  im2urls.append(im2['url'])\n",
        "  images[key2] = im2\n",
        "for key1, im1 in images1.items():\n",
        "  # if im1['url'] in im2urls:\n",
        "  #   overlap += 1\n",
        "  # else:\n",
        "  images[key1] = im1"
      ]
    },
    {
      "cell_type": "code",
      "execution_count": null,
      "metadata": {
        "id": "K5Ednd6Uc3Bz",
        "vscode": {
          "languageId": "python"
        }
      },
      "outputs": [],
      "source": [
        "### REMOVED ACCESS KEY AND ID FOR BOTO3 S3 CLIENT SETUP FOR PRIVACY ###\n",
        "import boto3\n",
        "from botocore.exceptions import ClientError\n",
        "s3 = boto3.client('s3')\n",
        "# s3 = boto3.client('s3',\n",
        "#          aws_access_key_id=ACCESS_ID,\n",
        "#          aws_secret_access_key= ACCESS_KEY)"
      ]
    },
    {
      "cell_type": "code",
      "execution_count": null,
      "metadata": {
        "id": "MhIYjqxnY9lS",
        "vscode": {
          "languageId": "python"
        }
      },
      "outputs": [],
      "source": [
        "from PIL import Image\n",
        "mask_images = {}\n",
        "for key, value in images.items():\n",
        "  if key > 984:\n",
        "    url = value['maskImage'].split('saycam-additional-panoptic-segmentations/')\n",
        "    filename = url[-1].split('/')[-1]\n",
        "    s3.download_file(\"saycam-additional-panoptic-segmentations\", url[-1], filename)\n",
        "    mask_images[key] = Image.open(filename)\n",
        "  else:\n",
        "    url = value['maskImage'].split('saycam-goldset-panoptic-basic/')\n",
        "    filename = url[-1].split('/')[-1]\n",
        "    s3.download_file(\"saycam-goldset-panoptic-basic\", url[-1], filename)\n",
        "    mask_images[key] = Image.open(filename)"
      ]
    },
    {
      "cell_type": "markdown",
      "metadata": {
        "id": "vU2weQ2t843K"
      },
      "source": [
        "# Process annotations into JSON"
      ]
    },
    {
      "cell_type": "code",
      "execution_count": null,
      "metadata": {
        "id": "OCu_8gGtZdn2",
        "vscode": {
          "languageId": "python"
        }
      },
      "outputs": [],
      "source": [
        "import json\n",
        "\n",
        "# Define which colors match which categories in the images\n",
        "category_ids = {}\n",
        "category_ids.update(colors1)\n",
        "category_ids.update(colors2)\n",
        "\n",
        "is_crowd = 0\n",
        "\n",
        "# These ids will be automatically increased as we go\n",
        "annotation_id = 1\n",
        "image_id = 1\n",
        "\n",
        "ims = {}\n",
        "\n",
        "# Create the annotations\n",
        "annotations = []\n",
        "for key, mask_image in mask_images.items():\n",
        "    sub_masks = create_sub_masks(mask_image)\n",
        "    for color, sub_mask in sub_masks.items():\n",
        "        category_id = category_ids[image_id][color]\n",
        "        annotation = create_sub_mask_annotation(sub_mask, image_id, category_id, annotation_id, is_crowd)\n",
        "        annotations.append(annotation)\n",
        "        annotation_id += 1\n",
        "    ims[image_id] = images[key]\n",
        "    image_id += 1"
      ]
    },
    {
      "cell_type": "markdown",
      "metadata": {
        "id": "USSq2UVyXtn3"
      },
      "source": [
        "# Make JSON dict"
      ]
    },
    {
      "cell_type": "code",
      "execution_count": null,
      "metadata": {
        "id": "nGwgsgStXsyH",
        "vscode": {
          "languageId": "python"
        }
      },
      "outputs": [],
      "source": [
        "json_dict = {\"images\": [], \"annotations\": [], \"categories\": []}"
      ]
    },
    {
      "cell_type": "code",
      "execution_count": null,
      "metadata": {
        "id": "HhsGJ67c95uN",
        "vscode": {
          "languageId": "python"
        }
      },
      "outputs": [],
      "source": [
        "# append annotations\n",
        "json_dict['annotations'] = annotations"
      ]
    },
    {
      "cell_type": "code",
      "execution_count": null,
      "metadata": {
        "colab": {
          "base_uri": "https://localhost:8080/"
        },
        "id": "-7N4crBe_bZ1",
        "outputId": "a130fe60-fd23-4fab-bf9d-3528a6da63f6",
        "vscode": {
          "languageId": "python"
        }
      },
      "outputs": [
        {
          "name": "stderr",
          "output_type": "stream",
          "text": [
            "/usr/local/lib/python3.7/dist-packages/requests/__init__.py:91: RequestsDependencyWarning: urllib3 (1.26.4) or chardet (3.0.4) doesn't match a supported version!\n",
            "  RequestsDependencyWarning)\n"
          ]
        }
      ],
      "source": [
        "# append images\n",
        "import requests\n",
        "for id, val in ims.items():\n",
        "  image_id = id\n",
        "  url = val['url']\n",
        "  im = Image.open(requests.get(url, stream=True).raw)\n",
        "  width, height = im.size\n",
        "  image = {\n",
        "      \"file_name\": url,\n",
        "      \"height\": height,\n",
        "      \"width\": width,\n",
        "      \"id\": image_id}\n",
        "  json_dict['images'].append(image)"
      ]
    },
    {
      "cell_type": "code",
      "execution_count": null,
      "metadata": {
        "id": "z_QNuCIt-GxQ",
        "vscode": {
          "languageId": "python"
        }
      },
      "outputs": [],
      "source": [
        "# append categories\n",
        "categories = {}\n",
        "for id, val in classes1.items():\n",
        "  if id>0:\n",
        "    categories[id] = val['class-name']\n",
        "for cid, cate in categories.items():\n",
        "    cat = {\"supercategory\": \"none\", \"id\": cid, \"name\": cate}\n",
        "    json_dict[\"categories\"].append(cat)"
      ]
    },
    {
      "cell_type": "code",
      "execution_count": null,
      "metadata": {
        "id": "qndJDjBpCazG",
        "vscode": {
          "languageId": "python"
        }
      },
      "outputs": [],
      "source": [
        "import os\n",
        "json_file = 'combined_segmentations.json'\n",
        "#os.makedirs(os.path.dirname(json_file), exist_ok=True)\n",
        "json_fp = open(json_file, \"w\")\n",
        "json_str = json.dumps(json_dict)\n",
        "json_fp.write(json_str)\n",
        "json_fp.close()"
      ]
    }
  ],
  "metadata": {
    "colab": {
      "collapsed_sections": [],
      "name": "SegmentationMaskstoCOCOJSON.ipynb",
      "provenance": []
    },
    "kernelspec": {
      "display_name": "Python 3",
      "name": "python3"
    }
  },
  "nbformat": 4,
  "nbformat_minor": 0
}
