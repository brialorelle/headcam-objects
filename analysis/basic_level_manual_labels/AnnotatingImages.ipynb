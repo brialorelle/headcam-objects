version https://git-lfs.github.com/spec/v1
oid sha256:0ba7143dd0746f611032b44101acd251647517408bc8adf031ecee2da0fbae72
size 15524
