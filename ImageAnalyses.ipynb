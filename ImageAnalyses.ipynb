{
  "nbformat": 4,
  "nbformat_minor": 0,
  "metadata": {
    "colab": {
      "name": "ImageAnalyses.ipynb",
      "provenance": [],
      "collapsed_sections": [
        "itnQDkLqUknc"
      ],
      "toc_visible": true,
      "authorship_tag": "ABX9TyP56FV8wFIlF8aOt8MUljBL",
      "include_colab_link": true
    },
    "kernelspec": {
      "name": "python3",
      "display_name": "Python 3"
    }
  },
  "cells": [
    {
      "cell_type": "markdown",
      "metadata": {
        "id": "view-in-github",
        "colab_type": "text"
      },
      "source": [
        "<a href=\"https://colab.research.google.com/github/brialorelle/headcam-objects/blob/master/ImageAnalyses.ipynb\" target=\"_parent\"><img src=\"https://colab.research.google.com/assets/colab-badge.svg\" alt=\"Open In Colab\"/></a>"
      ]
    },
    {
      "cell_type": "markdown",
      "metadata": {
        "id": "xLtBIBFmfMOs"
      },
      "source": [
        "# Overview of this file"
      ]
    },
    {
      "cell_type": "markdown",
      "metadata": {
        "id": "nfZyzq10uTRR"
      },
      "source": [
        "Dictionary structures included in this notebook:\n",
        "\n",
        "idMapper[AssignmentId]\n",
        " *   'HITId': HITId\n",
        " *   'WorkerId': WorkerId\n",
        "\n",
        "bboxes[AssignmentId]\n",
        "*   list of bounding box objects with fields:\n",
        "  *  height\n",
        "  *  label\n",
        "  * xmin (start pixel of bbox on left side)\n",
        "  * ymin (start pixel of bbox on top)\n",
        "  * width\n",
        "  * HITId\n",
        "\n",
        "answers[AssignmentId]\n",
        "  * ['boundingBoxes'] : list of dictionaries containing:\n",
        "    *  'height' : height\n",
        "    *  'label': label\n",
        "    * 'left': (start pixel of bbox on left side)\n",
        "    * 'top': (start pixel of bbox on top)\n",
        "    * 'width': width\n",
        "  * ['numBoxes'] : number of bounding boxes\n",
        "  * ['HITId'] : HITId\n",
        "\n",
        "images[HITId]\n",
        "* image objects with fields:\n",
        "  * height\n",
        "  * width\n",
        "  * url\n",
        "  * numWorkers\n",
        "\n",
        "categories[categoryId]\n",
        "* category/label name\n",
        "\n",
        "answersReview[AssignmentId]\n",
        "  * ['WorkerId'] : store WorkerId to easily grab bad actors\n",
        "  * ['goodLabels'] : number of good labels\n",
        "  * ['goodBoxes'] : number of good boxes\n",
        "\n",
        "After removing bad actors:\n",
        "object_inst[category/label name]\n",
        "* number of instances of each category/label name\n",
        "\n",
        "\n",
        "\n",
        "\n",
        "\n",
        "\n",
        "\n",
        "\n",
        "\n",
        "\n"
      ]
    },
    {
      "cell_type": "code",
      "metadata": {
        "id": "yylrLFX9k9aO"
      },
      "source": [
        "import boto3\n",
        "import json\n",
        "import numpy as np\n",
        "import matplotlib.pyplot as plt\n",
        "import matplotlib.patches as patches\n",
        "import requests\n",
        "from io import BytesIO\n",
        "from PIL import Image\n",
        "import pandas as pd"
      ],
      "execution_count": 1,
      "outputs": []
    },
    {
      "cell_type": "code",
      "metadata": {
        "id": "ShIQ16XB7z9U",
        "outputId": "9f0f927b-fb9e-41fb-f22f-bf81f061a929",
        "colab": {
          "base_uri": "https://localhost:8080/",
          "height": 34
        }
      },
      "source": [
        "from google.colab import drive\n",
        "drive.mount('/content/drive')"
      ],
      "execution_count": 101,
      "outputs": [
        {
          "output_type": "stream",
          "text": [
            "Drive already mounted at /content/drive; to attempt to forcibly remount, call drive.mount(\"/content/drive\", force_remount=True).\n"
          ],
          "name": "stdout"
        }
      ]
    },
    {
      "cell_type": "markdown",
      "metadata": {
        "id": "itnQDkLqUknc"
      },
      "source": [
        "# Load Object Label List"
      ]
    },
    {
      "cell_type": "markdown",
      "metadata": {
        "id": "X_3h2gqpUDe-"
      },
      "source": [
        "Use the function from the txt2list.py file (copying it for ease of use)"
      ]
    },
    {
      "cell_type": "code",
      "metadata": {
        "id": "95d3ra1nThOf"
      },
      "source": [
        "def loadObjList(txtFile):\n",
        "    # define an empty list\n",
        "    words = []\n",
        "\n",
        "    # open file and read the content into a list\n",
        "    with open(txtFile, 'r') as filehandle:\n",
        "        for line in filehandle:\n",
        "            # remove linebreak which is the last character of the string\n",
        "            currentWord = line[:-1]\n",
        "\n",
        "            # add item to the list\n",
        "            words.append(currentWord)\n",
        "\n",
        "    words = list(set(words))\n",
        "    words.sort() #alphabetize\n",
        "    words.insert(0, 'other / label not found')\n",
        "    return words"
      ],
      "execution_count": 3,
      "outputs": []
    },
    {
      "cell_type": "markdown",
      "metadata": {
        "id": "EY2cLU73lZbA"
      },
      "source": [
        "Make the category dictionary with IDs."
      ]
    },
    {
      "cell_type": "code",
      "metadata": {
        "id": "x8AF6P2Zts2h"
      },
      "source": [
        "categories = {}       # dictionary mapping labels to ids\n",
        "catId = 1\n",
        "labels = loadObjList('/content/drive/My Drive/CSLI/object_list.txt')\n",
        "for cat in labels:\n",
        "  categories[cat] = catId\n",
        "  catId+=1"
      ],
      "execution_count": 4,
      "outputs": []
    },
    {
      "cell_type": "markdown",
      "metadata": {
        "id": "XxYzeIKlfcXV"
      },
      "source": [
        "So now, we have a list of labels from the object list and a mapping of category names to ids (this is for putting the data in COCO JSON format)"
      ]
    },
    {
      "cell_type": "code",
      "metadata": {
        "id": "mn82VEB4VPun",
        "outputId": "b5c3c9e9-e884-4142-d4f5-d45c56690f0a",
        "colab": {
          "base_uri": "https://localhost:8080/",
          "height": 54
        }
      },
      "source": [
        "print(labels)\n",
        "categories"
      ],
      "execution_count": 5,
      "outputs": [
        {
          "output_type": "stream",
          "text": [
            "['other / label not found', 'activity gym', 'airplane', 'alligator', 'animal', 'ant', 'apple', 'applesauce', 'art', 'backpack', 'backyard', 'bag', 'ball', 'balloon', 'banana', 'baseball glove', 'basket', 'bat', 'bath toy', 'bathtub', 'beanbag', 'beans', 'bear', 'bed', 'bee', 'bench', 'bicycle', 'bike stand', 'bird', 'blanket', 'blender', 'block', 'blocks', 'boat', 'book', 'boots', 'bottle', 'bouncer', 'bowl', 'box', 'bread', 'broccoli', 'broom', 'brush', 'bubbles', 'bucket', 'bug', 'bunny', 'bus', 'bush', 'butter', 'butterfly', 'button', 'cabinet', 'cake', 'camera', 'can (object)', 'candy', 'car', 'carrots', 'cat', 'cell phone', 'cereal', 'chair', 'chalk', 'changing table', 'cheerios', 'cheese', 'chicken (animal)', 'chicken (food)', 'chocolate', 'clock', 'closet', 'cloud', 'coffee', 'coin', 'coins', 'coke', 'comb', 'container', 'cookie', 'corn', 'cow', 'cracker', 'cradle', 'crayon', 'crayons', 'crib', 'cup', 'curtain', 'deer', 'desk', 'desktop', 'diaper', 'dining table', 'dish', 'dog', 'doll', 'dollhouse', 'donkey', 'donut', 'door', 'drawer', 'dress', 'drink (beverage)', 'dryer', 'duck', 'egg', 'elephant', 'eyeglasses', 'fan', 'fence', 'fire hydrant', 'firetruck', 'fish (animal)', 'fish (food)', 'flag', 'flower', 'food', 'fork', 'frame', 'french fries', 'frisbee', 'frog', 'fruit', 'game', 'garbage', 'garden', 'giraffe', 'glass', 'glasses', 'glue', 'goose', 'grapes', 'grass', 'green beans', 'guitar', 'gum', 'hair brush', 'hair drier', 'hamburger', 'hammer', 'handbag', 'hat', 'helicopter', 'hen', 'high chair', 'hook', 'horse', 'hose', 'hot dog', 'house or home', 'ice', 'ice cream', 'jacket', 'jar', 'jello', 'jelly', 'juice', 'keyboard', 'keys', 'kite', 'kitty', 'knife', 'ladder', 'lamb', 'lamp', 'laptop', 'lawn mower', 'leaf', 'light', 'light switch', 'lion', 'lollipop', 'magnet', 'maraca', 'marker', 'mat', 'meat', 'medicine', 'melon', 'microwave', 'milk', 'mirror', 'mobile', 'mobile phone', 'money', 'monkey', 'moon', 'moose', 'mop', 'motorcycle', 'mouse', 'muffin', 'mug', 'nail', 'napkin', 'noodles', 'nuts', 'orange (food)', 'oven', 'owl', 'paint', 'painting', 'pan', 'pancake', 'pants', 'paper', 'parking meter', 'peanut butter', 'peas', 'pen', 'pencil', 'penguin', 'penny', 'pet toy', 'piano', 'pickle', 'picture', 'pig', 'pillow', 'pizza', 'plant', 'plate', 'play dough', 'play gym', 'play mat', 'play pen', 'pony', 'pool', 'popcorn', 'popsicle', 'porch', 'pot', 'potato', 'potato chip', 'potted plant', 'potty', 'present', 'pretzel', 'pudding', 'pumpkin', 'puppy', 'purse', 'puzzle', 'rabbit', 'radio', 'rain', 'raisin', 'rattle', 'recycling bin', 'refrigerator', 'remote', 'rock', 'rocker', 'rocking chair', 'roof', 'rooster', 'rubber duck', 'rug', 'salt', 'sandbox', 'sandwich', 'sauce', 'scissors', 'screen', 'seeds', 'sheep', 'shelf', 'shirt', 'shoe', 'shorts', 'shovel', 'shower', 'sidewalk', 'sink', 'sippy cup', 'skateboard', 'skirt', 'skis', 'sky', 'sled', 'slide (object)', 'smartphone', 'snow', 'snowboard', 'snowman', 'soap', 'sock', 'soda/pop', 'sofa or couch', 'soil', 'soup', 'spaghetti', 'spoon', 'sports ball', 'sprinkler', 'squirrel', 'stairs', 'star', 'stick', 'stone', 'stool', 'stop sign', 'story', 'stove', 'strawberry', 'street', 'street sign', 'stroller', 'stuffed animal', 'suitcase', 'sun', 'surfboard', 'swing (object)', 'table', 'tape', 'teddy bear', 'telephone', 'television (tv)', 'tennis racket', 'tie', 'tiger', 'tissue or kleenex', 'toast', 'toaster', 'toilet', 'toothbrush', 'toothpaste', 'towel', 'toy (object)', 'tractor', 'traffic light', 'train', 'trash', 'trash can or garbage bin', 'tray', 'tree', 'tricycle', 'truck', 'tuna', 'turkey', 'turtle', 'ukelele', 'umbrella', 'vacuum', 'vanilla', 'vanity', 'vase', 'vitamins', 'walker', 'washing machine', 'watch (object)', 'water (beverage)', 'water (not beverage)', 'wind', 'window', 'wine glass', 'wipes', 'wolf', 'yogurt', 'zebra']\n"
          ],
          "name": "stdout"
        }
      ]
    },
    {
      "cell_type": "markdown",
      "metadata": {
        "id": "KImKN8EPlo7r"
      },
      "source": [
        "# Load Response CSVs"
      ]
    },
    {
      "cell_type": "markdown",
      "metadata": {
        "id": "4Jy2yLnglojq"
      },
      "source": [
        "Grab and load CSV results from batches, the paths listed below include all the collected batches from MTurk. The toy batches include results from lab members and the pilot batches include results from the 150 random images."
      ]
    },
    {
      "cell_type": "code",
      "metadata": {
        "id": "H183wF3TltgV"
      },
      "source": [
        "toyBatch = '/content/drive/My Drive/CSLI/Batch Results/Batch_286363_batch_results.csv'\n",
        "preToyBatch = '/content/drive/My Drive/CSLI/Batch Results/Batch_287989_batch_results.csv'\n",
        "pilotBatch1= '/content/drive/My Drive/CSLI/Batch Results/Batch_4140330_batch_results.csv'\n",
        "pilotBatch2= '/content/drive/My Drive/CSLI/Batch Results/Batch_4140307_batch_results.csv'\n",
        "pilotBatch= '/content/drive/My Drive/CSLI/Batch Results/Batch_4148388_batch_results.csv'\n",
        "result1 = pd.read_csv(pilotBatch1)\n",
        "result2 = pd.read_csv(pilotBatch2)\n",
        "result = pd.read_csv(pilotBatch)"
      ],
      "execution_count": 137,
      "outputs": []
    },
    {
      "cell_type": "code",
      "metadata": {
        "id": "RsRXub2YnOaO",
        "outputId": "9b44aeba-8b28-4574-e5f3-1706e6fedb1b",
        "colab": {
          "base_uri": "https://localhost:8080/",
          "height": 1000
        }
      },
      "source": [
        "results = pd.concat([result, result1, result2], ignore_index=True)\n",
        "results = results.rename(columns={'Input.image_url':'image_url', 'Answer.taskAnswers':'taskAnswers'})\n",
        "results"
      ],
      "execution_count": 138,
      "outputs": [
        {
          "output_type": "execute_result",
          "data": {
            "text/html": [
              "<div>\n",
              "<style scoped>\n",
              "    .dataframe tbody tr th:only-of-type {\n",
              "        vertical-align: middle;\n",
              "    }\n",
              "\n",
              "    .dataframe tbody tr th {\n",
              "        vertical-align: top;\n",
              "    }\n",
              "\n",
              "    .dataframe thead th {\n",
              "        text-align: right;\n",
              "    }\n",
              "</style>\n",
              "<table border=\"1\" class=\"dataframe\">\n",
              "  <thead>\n",
              "    <tr style=\"text-align: right;\">\n",
              "      <th></th>\n",
              "      <th>HITId</th>\n",
              "      <th>HITTypeId</th>\n",
              "      <th>Title</th>\n",
              "      <th>Description</th>\n",
              "      <th>Keywords</th>\n",
              "      <th>Reward</th>\n",
              "      <th>CreationTime</th>\n",
              "      <th>MaxAssignments</th>\n",
              "      <th>RequesterAnnotation</th>\n",
              "      <th>AssignmentDurationInSeconds</th>\n",
              "      <th>AutoApprovalDelayInSeconds</th>\n",
              "      <th>Expiration</th>\n",
              "      <th>NumberOfSimilarHITs</th>\n",
              "      <th>LifetimeInSeconds</th>\n",
              "      <th>AssignmentId</th>\n",
              "      <th>WorkerId</th>\n",
              "      <th>AssignmentStatus</th>\n",
              "      <th>AcceptTime</th>\n",
              "      <th>SubmitTime</th>\n",
              "      <th>AutoApprovalTime</th>\n",
              "      <th>ApprovalTime</th>\n",
              "      <th>RejectionTime</th>\n",
              "      <th>RequesterFeedback</th>\n",
              "      <th>WorkTimeInSeconds</th>\n",
              "      <th>LifetimeApprovalRate</th>\n",
              "      <th>Last30DaysApprovalRate</th>\n",
              "      <th>Last7DaysApprovalRate</th>\n",
              "      <th>image_url</th>\n",
              "      <th>taskAnswers</th>\n",
              "      <th>Approve</th>\n",
              "      <th>Reject</th>\n",
              "    </tr>\n",
              "  </thead>\n",
              "  <tbody>\n",
              "    <tr>\n",
              "      <th>0</th>\n",
              "      <td>36FQTHX3Z3RAKFE0K2HIXM7S50IB3M</td>\n",
              "      <td>30E4L8P2E1IGB4SPQBIV9J8TS47B8P</td>\n",
              "      <td>Identify the objects in an image</td>\n",
              "      <td>Annotate up to 5 objects in a single image by ...</td>\n",
              "      <td>object detection, object classification</td>\n",
              "      <td>$0.30</td>\n",
              "      <td>Tue Aug 11 09:12:57 PDT 2020</td>\n",
              "      <td>2</td>\n",
              "      <td>BatchId:4148388;OriginalHitTemplateId:928390828;</td>\n",
              "      <td>7200</td>\n",
              "      <td>10800</td>\n",
              "      <td>Tue Aug 18 12:13:07 PDT 2020</td>\n",
              "      <td>NaN</td>\n",
              "      <td>NaN</td>\n",
              "      <td>30MVJZJNHMD54KZMF50BB7PH7U89J4</td>\n",
              "      <td>A29TP4KM7E80WJ</td>\n",
              "      <td>Approved</td>\n",
              "      <td>Tue Aug 11 09:13:27 PDT 2020</td>\n",
              "      <td>Tue Aug 11 09:16:28 PDT 2020</td>\n",
              "      <td>Tue Aug 11 12:16:28 PDT 2020</td>\n",
              "      <td>Tue Aug 11 12:17:12 PDT 2020</td>\n",
              "      <td>NaN</td>\n",
              "      <td>NaN</td>\n",
              "      <td>181</td>\n",
              "      <td>100% (2/2)</td>\n",
              "      <td>100% (2/2)</td>\n",
              "      <td>100% (2/2)</td>\n",
              "      <td>http://langcog.stanford.edu/expts/saycam/frame...</td>\n",
              "      <td>[{\"annotatedResult\":{\"boundingBoxes\":[{\"height...</td>\n",
              "      <td>NaN</td>\n",
              "      <td>NaN</td>\n",
              "    </tr>\n",
              "    <tr>\n",
              "      <th>1</th>\n",
              "      <td>36FQTHX3Z3RAKFE0K2HIXM7S50IB3M</td>\n",
              "      <td>30E4L8P2E1IGB4SPQBIV9J8TS47B8P</td>\n",
              "      <td>Identify the objects in an image</td>\n",
              "      <td>Annotate up to 5 objects in a single image by ...</td>\n",
              "      <td>object detection, object classification</td>\n",
              "      <td>$0.30</td>\n",
              "      <td>Tue Aug 11 09:12:57 PDT 2020</td>\n",
              "      <td>2</td>\n",
              "      <td>BatchId:4148388;OriginalHitTemplateId:928390828;</td>\n",
              "      <td>7200</td>\n",
              "      <td>10800</td>\n",
              "      <td>Tue Aug 18 12:13:07 PDT 2020</td>\n",
              "      <td>NaN</td>\n",
              "      <td>NaN</td>\n",
              "      <td>3OLQQLKKNSPMZGQ3NGGX3LQSYROJEO</td>\n",
              "      <td>A2FIMX1INRS3OG</td>\n",
              "      <td>Approved</td>\n",
              "      <td>Tue Aug 11 13:27:36 PDT 2020</td>\n",
              "      <td>Tue Aug 11 13:29:11 PDT 2020</td>\n",
              "      <td>Tue Aug 11 16:29:11 PDT 2020</td>\n",
              "      <td>Tue Aug 11 16:29:12 PDT 2020</td>\n",
              "      <td>NaN</td>\n",
              "      <td>NaN</td>\n",
              "      <td>95</td>\n",
              "      <td>100% (6/6)</td>\n",
              "      <td>100% (6/6)</td>\n",
              "      <td>100% (6/6)</td>\n",
              "      <td>http://langcog.stanford.edu/expts/saycam/frame...</td>\n",
              "      <td>[{\"annotatedResult\":{\"boundingBoxes\":[{\"height...</td>\n",
              "      <td>NaN</td>\n",
              "      <td>NaN</td>\n",
              "    </tr>\n",
              "    <tr>\n",
              "      <th>2</th>\n",
              "      <td>3B623HUYJ4QV2Y1875Y9ESP3PAW8SC</td>\n",
              "      <td>30E4L8P2E1IGB4SPQBIV9J8TS47B8P</td>\n",
              "      <td>Identify the objects in an image</td>\n",
              "      <td>Annotate up to 5 objects in a single image by ...</td>\n",
              "      <td>object detection, object classification</td>\n",
              "      <td>$0.30</td>\n",
              "      <td>Tue Aug 11 09:12:57 PDT 2020</td>\n",
              "      <td>2</td>\n",
              "      <td>BatchId:4148388;OriginalHitTemplateId:928390828;</td>\n",
              "      <td>7200</td>\n",
              "      <td>10800</td>\n",
              "      <td>Tue Aug 18 09:12:57 PDT 2020</td>\n",
              "      <td>NaN</td>\n",
              "      <td>NaN</td>\n",
              "      <td>35GCEFQ6I5O9PXFAGI2N8OALQ0B3Z2</td>\n",
              "      <td>AU5R5BJ1D6MEX</td>\n",
              "      <td>Approved</td>\n",
              "      <td>Tue Aug 11 09:40:18 PDT 2020</td>\n",
              "      <td>Tue Aug 11 09:43:00 PDT 2020</td>\n",
              "      <td>Tue Aug 11 12:43:00 PDT 2020</td>\n",
              "      <td>Tue Aug 11 12:43:13 PDT 2020</td>\n",
              "      <td>NaN</td>\n",
              "      <td>NaN</td>\n",
              "      <td>162</td>\n",
              "      <td>100% (3/3)</td>\n",
              "      <td>100% (3/3)</td>\n",
              "      <td>100% (3/3)</td>\n",
              "      <td>http://langcog.stanford.edu/expts/saycam/frame...</td>\n",
              "      <td>[{\"annotatedResult\":{\"boundingBoxes\":[],\"input...</td>\n",
              "      <td>NaN</td>\n",
              "      <td>NaN</td>\n",
              "    </tr>\n",
              "    <tr>\n",
              "      <th>3</th>\n",
              "      <td>3B623HUYJ4QV2Y1875Y9ESP3PAW8SC</td>\n",
              "      <td>30E4L8P2E1IGB4SPQBIV9J8TS47B8P</td>\n",
              "      <td>Identify the objects in an image</td>\n",
              "      <td>Annotate up to 5 objects in a single image by ...</td>\n",
              "      <td>object detection, object classification</td>\n",
              "      <td>$0.30</td>\n",
              "      <td>Tue Aug 11 09:12:57 PDT 2020</td>\n",
              "      <td>2</td>\n",
              "      <td>BatchId:4148388;OriginalHitTemplateId:928390828;</td>\n",
              "      <td>7200</td>\n",
              "      <td>10800</td>\n",
              "      <td>Tue Aug 18 09:12:57 PDT 2020</td>\n",
              "      <td>NaN</td>\n",
              "      <td>NaN</td>\n",
              "      <td>35GMH2SV3EH00RH03T82BH7EXLYOEC</td>\n",
              "      <td>A1V2H0UF94ATWY</td>\n",
              "      <td>Approved</td>\n",
              "      <td>Tue Aug 11 09:13:11 PDT 2020</td>\n",
              "      <td>Tue Aug 11 09:26:21 PDT 2020</td>\n",
              "      <td>Tue Aug 11 12:26:21 PDT 2020</td>\n",
              "      <td>Tue Aug 11 12:27:12 PDT 2020</td>\n",
              "      <td>NaN</td>\n",
              "      <td>NaN</td>\n",
              "      <td>790</td>\n",
              "      <td>100% (10/10)</td>\n",
              "      <td>100% (1/1)</td>\n",
              "      <td>100% (1/1)</td>\n",
              "      <td>http://langcog.stanford.edu/expts/saycam/frame...</td>\n",
              "      <td>[{\"annotatedResult\":{\"boundingBoxes\":[{\"height...</td>\n",
              "      <td>NaN</td>\n",
              "      <td>NaN</td>\n",
              "    </tr>\n",
              "    <tr>\n",
              "      <th>4</th>\n",
              "      <td>30P8I9JKOILS78ZA32WBDVZJMOP5VC</td>\n",
              "      <td>30E4L8P2E1IGB4SPQBIV9J8TS47B8P</td>\n",
              "      <td>Identify the objects in an image</td>\n",
              "      <td>Annotate up to 5 objects in a single image by ...</td>\n",
              "      <td>object detection, object classification</td>\n",
              "      <td>$0.30</td>\n",
              "      <td>Tue Aug 11 09:12:57 PDT 2020</td>\n",
              "      <td>2</td>\n",
              "      <td>BatchId:4148388;OriginalHitTemplateId:928390828;</td>\n",
              "      <td>7200</td>\n",
              "      <td>10800</td>\n",
              "      <td>Tue Aug 18 09:12:57 PDT 2020</td>\n",
              "      <td>NaN</td>\n",
              "      <td>NaN</td>\n",
              "      <td>35BLDD71I6XT16HT0S8TRJ24HKAZV1</td>\n",
              "      <td>AE1OI33BMMWUS</td>\n",
              "      <td>Approved</td>\n",
              "      <td>Tue Aug 11 09:58:29 PDT 2020</td>\n",
              "      <td>Tue Aug 11 10:06:47 PDT 2020</td>\n",
              "      <td>Tue Aug 11 13:06:47 PDT 2020</td>\n",
              "      <td>Tue Aug 11 13:07:13 PDT 2020</td>\n",
              "      <td>NaN</td>\n",
              "      <td>NaN</td>\n",
              "      <td>498</td>\n",
              "      <td>100% (1/1)</td>\n",
              "      <td>100% (1/1)</td>\n",
              "      <td>100% (1/1)</td>\n",
              "      <td>http://langcog.stanford.edu/expts/saycam/frame...</td>\n",
              "      <td>[{\"annotatedResult\":{\"boundingBoxes\":[{\"height...</td>\n",
              "      <td>NaN</td>\n",
              "      <td>NaN</td>\n",
              "    </tr>\n",
              "    <tr>\n",
              "      <th>...</th>\n",
              "      <td>...</td>\n",
              "      <td>...</td>\n",
              "      <td>...</td>\n",
              "      <td>...</td>\n",
              "      <td>...</td>\n",
              "      <td>...</td>\n",
              "      <td>...</td>\n",
              "      <td>...</td>\n",
              "      <td>...</td>\n",
              "      <td>...</td>\n",
              "      <td>...</td>\n",
              "      <td>...</td>\n",
              "      <td>...</td>\n",
              "      <td>...</td>\n",
              "      <td>...</td>\n",
              "      <td>...</td>\n",
              "      <td>...</td>\n",
              "      <td>...</td>\n",
              "      <td>...</td>\n",
              "      <td>...</td>\n",
              "      <td>...</td>\n",
              "      <td>...</td>\n",
              "      <td>...</td>\n",
              "      <td>...</td>\n",
              "      <td>...</td>\n",
              "      <td>...</td>\n",
              "      <td>...</td>\n",
              "      <td>...</td>\n",
              "      <td>...</td>\n",
              "      <td>...</td>\n",
              "      <td>...</td>\n",
              "    </tr>\n",
              "    <tr>\n",
              "      <th>321</th>\n",
              "      <td>338431Z1FLFMMBOBZXN0L4A7IBYORK</td>\n",
              "      <td>32KI9HN0SH9DW3HARHQBZZD93J11U5</td>\n",
              "      <td>Draw bounding boxes around objects in an image</td>\n",
              "      <td>Help annotate the objects that are in the infa...</td>\n",
              "      <td>object detection, object classification</td>\n",
              "      <td>$0.30</td>\n",
              "      <td>Tue Aug 04 15:19:49 PDT 2020</td>\n",
              "      <td>1</td>\n",
              "      <td>BatchId:4140307;OriginalHitTemplateId:928390828;</td>\n",
              "      <td>7200</td>\n",
              "      <td>10800</td>\n",
              "      <td>Tue Aug 11 15:19:49 PDT 2020</td>\n",
              "      <td>NaN</td>\n",
              "      <td>NaN</td>\n",
              "      <td>3WLEIWSYHOHYDUJX6WIBP71OO502HO</td>\n",
              "      <td>A3HLXRFK6YXOBH</td>\n",
              "      <td>Approved</td>\n",
              "      <td>Wed Aug 05 00:43:03 PDT 2020</td>\n",
              "      <td>Wed Aug 05 01:24:51 PDT 2020</td>\n",
              "      <td>Wed Aug 05 04:24:51 PDT 2020</td>\n",
              "      <td>Wed Aug 05 04:25:12 PDT 2020</td>\n",
              "      <td>NaN</td>\n",
              "      <td>NaN</td>\n",
              "      <td>2508</td>\n",
              "      <td>100% (1/1)</td>\n",
              "      <td>100% (1/1)</td>\n",
              "      <td>100% (1/1)</td>\n",
              "      <td>http://langcog.stanford.edu/expts/saycam/frame...</td>\n",
              "      <td>[{\"annotatedResult\":{\"boundingBoxes\":[{\"height...</td>\n",
              "      <td>NaN</td>\n",
              "      <td>NaN</td>\n",
              "    </tr>\n",
              "    <tr>\n",
              "      <th>322</th>\n",
              "      <td>3KTZHH2ONIFS43O3N82N2JQXXJVM8R</td>\n",
              "      <td>32KI9HN0SH9DW3HARHQBZZD93J11U5</td>\n",
              "      <td>Draw bounding boxes around objects in an image</td>\n",
              "      <td>Help annotate the objects that are in the infa...</td>\n",
              "      <td>object detection, object classification</td>\n",
              "      <td>$0.30</td>\n",
              "      <td>Tue Aug 04 15:19:49 PDT 2020</td>\n",
              "      <td>1</td>\n",
              "      <td>BatchId:4140307;OriginalHitTemplateId:928390828;</td>\n",
              "      <td>7200</td>\n",
              "      <td>10800</td>\n",
              "      <td>Tue Aug 11 15:19:49 PDT 2020</td>\n",
              "      <td>NaN</td>\n",
              "      <td>NaN</td>\n",
              "      <td>3VHP9MDGRNKRXGKT8ZJHYZYXKHUFC6</td>\n",
              "      <td>A7O6BHXX3BW97</td>\n",
              "      <td>Approved</td>\n",
              "      <td>Tue Aug 04 21:26:07 PDT 2020</td>\n",
              "      <td>Tue Aug 04 21:28:40 PDT 2020</td>\n",
              "      <td>Wed Aug 05 00:28:40 PDT 2020</td>\n",
              "      <td>Wed Aug 05 00:29:12 PDT 2020</td>\n",
              "      <td>NaN</td>\n",
              "      <td>NaN</td>\n",
              "      <td>153</td>\n",
              "      <td>100% (1/1)</td>\n",
              "      <td>100% (1/1)</td>\n",
              "      <td>100% (1/1)</td>\n",
              "      <td>http://langcog.stanford.edu/expts/saycam/frame...</td>\n",
              "      <td>[{\"annotatedResult\":{\"boundingBoxes\":[{\"height...</td>\n",
              "      <td>NaN</td>\n",
              "      <td>NaN</td>\n",
              "    </tr>\n",
              "    <tr>\n",
              "      <th>323</th>\n",
              "      <td>30P8I9JKOILS78ZA32WBDVZJMM75VQ</td>\n",
              "      <td>32KI9HN0SH9DW3HARHQBZZD93J11U5</td>\n",
              "      <td>Draw bounding boxes around objects in an image</td>\n",
              "      <td>Help annotate the objects that are in the infa...</td>\n",
              "      <td>object detection, object classification</td>\n",
              "      <td>$0.30</td>\n",
              "      <td>Tue Aug 04 15:19:49 PDT 2020</td>\n",
              "      <td>1</td>\n",
              "      <td>BatchId:4140307;OriginalHitTemplateId:928390828;</td>\n",
              "      <td>7200</td>\n",
              "      <td>10800</td>\n",
              "      <td>Tue Aug 11 15:19:49 PDT 2020</td>\n",
              "      <td>NaN</td>\n",
              "      <td>NaN</td>\n",
              "      <td>33TIN5LC04AVZ9UL151ELU45K5R9YM</td>\n",
              "      <td>A2XNP5SIRGVF7X</td>\n",
              "      <td>Approved</td>\n",
              "      <td>Tue Aug 04 16:16:31 PDT 2020</td>\n",
              "      <td>Tue Aug 04 16:20:55 PDT 2020</td>\n",
              "      <td>Tue Aug 04 19:20:55 PDT 2020</td>\n",
              "      <td>Tue Aug 04 19:21:12 PDT 2020</td>\n",
              "      <td>NaN</td>\n",
              "      <td>NaN</td>\n",
              "      <td>264</td>\n",
              "      <td>100% (1/1)</td>\n",
              "      <td>100% (1/1)</td>\n",
              "      <td>100% (1/1)</td>\n",
              "      <td>http://langcog.stanford.edu/expts/saycam/frame...</td>\n",
              "      <td>[{\"annotatedResult\":{\"boundingBoxes\":[{\"height...</td>\n",
              "      <td>NaN</td>\n",
              "      <td>NaN</td>\n",
              "    </tr>\n",
              "    <tr>\n",
              "      <th>324</th>\n",
              "      <td>3BA7SXOG1JQJ1J1VSGY4OIK736UR8K</td>\n",
              "      <td>32KI9HN0SH9DW3HARHQBZZD93J11U5</td>\n",
              "      <td>Draw bounding boxes around objects in an image</td>\n",
              "      <td>Help annotate the objects that are in the infa...</td>\n",
              "      <td>object detection, object classification</td>\n",
              "      <td>$0.30</td>\n",
              "      <td>Tue Aug 04 15:19:49 PDT 2020</td>\n",
              "      <td>1</td>\n",
              "      <td>BatchId:4140307;OriginalHitTemplateId:928390828;</td>\n",
              "      <td>7200</td>\n",
              "      <td>10800</td>\n",
              "      <td>Tue Aug 11 15:19:49 PDT 2020</td>\n",
              "      <td>NaN</td>\n",
              "      <td>NaN</td>\n",
              "      <td>3A4NIXBJ76ZQ6U6G7ZGTW88TBPOML0</td>\n",
              "      <td>A173A97OFDAX9F</td>\n",
              "      <td>Approved</td>\n",
              "      <td>Tue Aug 04 15:55:00 PDT 2020</td>\n",
              "      <td>Tue Aug 04 15:57:39 PDT 2020</td>\n",
              "      <td>Tue Aug 04 18:57:39 PDT 2020</td>\n",
              "      <td>Tue Aug 04 18:58:12 PDT 2020</td>\n",
              "      <td>NaN</td>\n",
              "      <td>NaN</td>\n",
              "      <td>159</td>\n",
              "      <td>100% (2/2)</td>\n",
              "      <td>100% (2/2)</td>\n",
              "      <td>100% (2/2)</td>\n",
              "      <td>http://langcog.stanford.edu/expts/saycam/frame...</td>\n",
              "      <td>[{\"annotatedResult\":{\"boundingBoxes\":[{\"height...</td>\n",
              "      <td>NaN</td>\n",
              "      <td>NaN</td>\n",
              "    </tr>\n",
              "    <tr>\n",
              "      <th>325</th>\n",
              "      <td>37NXA7GVST669X2VVPCIUKVG8C6VL3</td>\n",
              "      <td>32KI9HN0SH9DW3HARHQBZZD93J11U5</td>\n",
              "      <td>Draw bounding boxes around objects in an image</td>\n",
              "      <td>Help annotate the objects that are in the infa...</td>\n",
              "      <td>object detection, object classification</td>\n",
              "      <td>$0.30</td>\n",
              "      <td>Tue Aug 04 15:19:49 PDT 2020</td>\n",
              "      <td>1</td>\n",
              "      <td>BatchId:4140307;OriginalHitTemplateId:928390828;</td>\n",
              "      <td>7200</td>\n",
              "      <td>10800</td>\n",
              "      <td>Tue Aug 11 15:19:49 PDT 2020</td>\n",
              "      <td>NaN</td>\n",
              "      <td>NaN</td>\n",
              "      <td>3LKC68YZ3A3UHR3ROT28XNEE4X4WOH</td>\n",
              "      <td>A25S8BTK83Z7VE</td>\n",
              "      <td>Approved</td>\n",
              "      <td>Tue Aug 04 17:39:42 PDT 2020</td>\n",
              "      <td>Tue Aug 04 17:43:34 PDT 2020</td>\n",
              "      <td>Tue Aug 04 20:43:34 PDT 2020</td>\n",
              "      <td>Tue Aug 04 20:44:12 PDT 2020</td>\n",
              "      <td>NaN</td>\n",
              "      <td>NaN</td>\n",
              "      <td>232</td>\n",
              "      <td>100% (1/1)</td>\n",
              "      <td>100% (1/1)</td>\n",
              "      <td>100% (1/1)</td>\n",
              "      <td>http://langcog.stanford.edu/expts/saycam/frame...</td>\n",
              "      <td>[{\"annotatedResult\":{\"boundingBoxes\":[{\"height...</td>\n",
              "      <td>NaN</td>\n",
              "      <td>NaN</td>\n",
              "    </tr>\n",
              "  </tbody>\n",
              "</table>\n",
              "<p>326 rows × 31 columns</p>\n",
              "</div>"
            ],
            "text/plain": [
              "                              HITId  ... Reject\n",
              "0    36FQTHX3Z3RAKFE0K2HIXM7S50IB3M  ...    NaN\n",
              "1    36FQTHX3Z3RAKFE0K2HIXM7S50IB3M  ...    NaN\n",
              "2    3B623HUYJ4QV2Y1875Y9ESP3PAW8SC  ...    NaN\n",
              "3    3B623HUYJ4QV2Y1875Y9ESP3PAW8SC  ...    NaN\n",
              "4    30P8I9JKOILS78ZA32WBDVZJMOP5VC  ...    NaN\n",
              "..                              ...  ...    ...\n",
              "321  338431Z1FLFMMBOBZXN0L4A7IBYORK  ...    NaN\n",
              "322  3KTZHH2ONIFS43O3N82N2JQXXJVM8R  ...    NaN\n",
              "323  30P8I9JKOILS78ZA32WBDVZJMM75VQ  ...    NaN\n",
              "324  3BA7SXOG1JQJ1J1VSGY4OIK736UR8K  ...    NaN\n",
              "325  37NXA7GVST669X2VVPCIUKVG8C6VL3  ...    NaN\n",
              "\n",
              "[326 rows x 31 columns]"
            ]
          },
          "metadata": {
            "tags": []
          },
          "execution_count": 138
        }
      ]
    },
    {
      "cell_type": "code",
      "metadata": {
        "id": "IDdYNsdQY7dL",
        "outputId": "88f5afb0-04da-42f5-80fd-966e4fb991ab",
        "colab": {
          "base_uri": "https://localhost:8080/",
          "height": 561
        }
      },
      "source": [
        "results.nunique()"
      ],
      "execution_count": 139,
      "outputs": [
        {
          "output_type": "execute_result",
          "data": {
            "text/plain": [
              "HITId                          176\n",
              "HITTypeId                        3\n",
              "Title                            2\n",
              "Description                      2\n",
              "Keywords                         1\n",
              "Reward                           1\n",
              "CreationTime                    13\n",
              "MaxAssignments                   2\n",
              "RequesterAnnotation              3\n",
              "AssignmentDurationInSeconds      1\n",
              "AutoApprovalDelayInSeconds       1\n",
              "Expiration                      15\n",
              "NumberOfSimilarHITs              0\n",
              "LifetimeInSeconds                0\n",
              "AssignmentId                   326\n",
              "WorkerId                       173\n",
              "AssignmentStatus                 2\n",
              "AcceptTime                     267\n",
              "SubmitTime                     324\n",
              "AutoApprovalTime               324\n",
              "ApprovalTime                   199\n",
              "RejectionTime                    0\n",
              "RequesterFeedback                0\n",
              "WorkTimeInSeconds              297\n",
              "LifetimeApprovalRate            18\n",
              "Last30DaysApprovalRate          13\n",
              "Last7DaysApprovalRate           13\n",
              "image_url                      150\n",
              "taskAnswers                    291\n",
              "Approve                          0\n",
              "Reject                           0\n",
              "dtype: int64"
            ]
          },
          "metadata": {
            "tags": []
          },
          "execution_count": 139
        }
      ]
    },
    {
      "cell_type": "markdown",
      "metadata": {
        "id": "-uQ5-S-Ii0-Z"
      },
      "source": [
        "Important observation from above values: we have 150 image urls and 176 HITIds -- we have repeat HITIds so we cannot use those as keys for the image url dictionary!"
      ]
    },
    {
      "cell_type": "code",
      "metadata": {
        "id": "obvDZsRXXqc6"
      },
      "source": [
        "import os\n",
        "def get_filename_as_int(filename):\n",
        "    try:\n",
        "        filename = os.path.basename(filename)\n",
        "        filename = filename.split('/')[-1].split('.')[0].split('-')[0]\n",
        "        return filename\n",
        "    except:\n",
        "        raise ValueError(\"Filename %s is supposed to be an integer.\" % (filename))"
      ],
      "execution_count": 167,
      "outputs": []
    },
    {
      "cell_type": "code",
      "metadata": {
        "id": "df6mlfGSmNqw"
      },
      "source": [
        "images = []\n",
        "for url in results.image_url.unique():\n",
        "  imKey = get_filename_as_int(url)\n",
        "  images.append(imKey)"
      ],
      "execution_count": 168,
      "outputs": []
    },
    {
      "cell_type": "code",
      "metadata": {
        "id": "Zkzgxb8bpMj1",
        "outputId": "4ab40815-fccc-474a-b72e-c06bfd31eb9b",
        "colab": {
          "base_uri": "https://localhost:8080/",
          "height": 35
        }
      },
      "source": [
        "imKey"
      ],
      "execution_count": 170,
      "outputs": [
        {
          "output_type": "execute_result",
          "data": {
            "application/vnd.google.colaboratory.intrinsic+json": {
              "type": "string"
            },
            "text/plain": [
              "'9871'"
            ]
          },
          "metadata": {
            "tags": []
          },
          "execution_count": 170
        }
      ]
    },
    {
      "cell_type": "code",
      "metadata": {
        "id": "2r63S94smwr4",
        "outputId": "4f23806d-90c3-4d41-d6de-ba3d756d724b",
        "colab": {
          "base_uri": "https://localhost:8080/",
          "height": 35
        }
      },
      "source": [
        "url"
      ],
      "execution_count": 171,
      "outputs": [
        {
          "output_type": "execute_result",
          "data": {
            "application/vnd.google.colaboratory.intrinsic+json": {
              "type": "string"
            },
            "text/plain": [
              "'http://langcog.stanford.edu/expts/saycam/frames/9871-A_20141004_2421_01.mp4-48450.jpg'"
            ]
          },
          "metadata": {
            "tags": []
          },
          "execution_count": 171
        }
      ]
    },
    {
      "cell_type": "markdown",
      "metadata": {
        "id": "kB7lhGHzz9iI"
      },
      "source": [
        "Create a boundingBox object with height, width, xmin, and ymin attributes and an image object with filename, HITId, height, and width attributes; we'll store our annotations in these objects for easy access during analyses"
      ]
    },
    {
      "cell_type": "code",
      "metadata": {
        "id": "v7WlO1GRyJ7W"
      },
      "source": [
        "\"\"\"\n",
        "class boundingBox(object):\n",
        "  def __init__(self, height, width, left, top, label, HITId):\n",
        "    self.height = height\n",
        "    self.width = width\n",
        "    self.xmin = left\n",
        "    self.ymin = top\n",
        "    self.label = label\n",
        "  \"\"\""
      ],
      "execution_count": null,
      "outputs": []
    },
    {
      "cell_type": "code",
      "metadata": {
        "id": "cWpUpPP4zIeB"
      },
      "source": [
        "class boundingBox(object):\n",
        "  def __init__(self, bboxDict, HITId, imKey):\n",
        "    self.height = bboxDict['height']\n",
        "    self.width = bboxDict['width']\n",
        "    self.xmin = bboxDict['left']\n",
        "    self.ymin = bboxDict['top']\n",
        "    self.label = bboxDict['label']\n",
        "    self.HITId = HITId\n",
        "    self.imKey = imKey\n",
        "\n",
        "\n",
        "class image(object):\n",
        "  def __init__(self, height, width, url):\n",
        "    self.height = height\n",
        "    self.width = width\n",
        "    self.url = url\n",
        "    self.numWorkers = 0"
      ],
      "execution_count": 197,
      "outputs": []
    },
    {
      "cell_type": "markdown",
      "metadata": {
        "id": "XuJJV0HLvBIw"
      },
      "source": [
        "We organize the annotated results using a nested dictionary with workerIds and HITIds and first and second keys. \n",
        "To have a unique ID for each annotation, we map assignment Ids to workerId and HITId pairs."
      ]
    },
    {
      "cell_type": "code",
      "metadata": {
        "id": "SaiToPeTpgF3"
      },
      "source": [
        "idMapper = {}                   # initialize an empty dictionary where we'll map assignmentIds to worker and HIT ids\n",
        "answers = {}                    # initialize an empty dictionary where we'll put the annotations as values\n",
        "images = {}\n",
        "answersReview = {}\n",
        "workerAnswers = {}\n",
        "\n",
        "for row in results.itertuples():\n",
        "  url = row.image_url\n",
        "  HITId = row.HITId\n",
        "  answer = json.loads(row.taskAnswers)[0]\n",
        "  bbox = answer['annotatedResult']['boundingBoxes']\n",
        "  imKey = get_filename_as_int(url)\n",
        "  if imKey not in images.keys():\n",
        "    imProp = answer['annotatedResult']['inputImageProperties']\n",
        "    im = image(imProp['height'],imProp['width'], url)\n",
        "    images[imKey] = {'image': im, 'HITIds': [HITId]}\n",
        "  else:\n",
        "    images[imKey]['HITIds'].append(HITId)\n",
        "  images[imKey]['image'].numWorkers = images[imKey]['image'].numWorkers + 1\n",
        "  idMapper[row.AssignmentId] = {'HITId': HITId, 'WorkerId': row.WorkerId, 'ImageKey' : imKey}\n",
        "  answers[row.AssignmentId] = {'boundingBoxes': bbox, 'numBoxes': len(bbox),'ImageKey': imKey}\n",
        "  answersReview[row.AssignmentId] = {'WorkerId': row.WorkerId, 'numBoxes': len(bbox)}"
      ],
      "execution_count": 198,
      "outputs": []
    },
    {
      "cell_type": "code",
      "metadata": {
        "id": "8mQFyw8YxI1p"
      },
      "source": [
        "bboxes = {}\n",
        "for key in answers:\n",
        "  bboxes[key] = []\n",
        "  for instance in answers[key]['boundingBoxes']:\n",
        "    bboxes[key].append(boundingBox(instance, idMapper[key]['HITId'], idMapper[key]['ImageKey']))"
      ],
      "execution_count": 199,
      "outputs": []
    },
    {
      "cell_type": "markdown",
      "metadata": {
        "id": "Z03HEQ2zPFvV"
      },
      "source": [
        "Review answers and update answersReview.\n",
        "\n",
        "* Count good labels and then count good bounding boxes (perhaps based on good labels)\n",
        "\n"
      ]
    },
    {
      "cell_type": "code",
      "metadata": {
        "id": "dmSyiGm5tjRo",
        "outputId": "33d42182-a87b-42e7-e1e8-b97d050771eb",
        "colab": {
          "base_uri": "https://localhost:8080/",
          "height": 850
        }
      },
      "source": [
        "# count good labels\n",
        "for id in answers:\n",
        "  if answers[id]['numBoxes'] != 0:\n",
        "    response = requests.get(images[idMapper[id]['ImageKey']]['image'].url)\n",
        "    img = Image.open(BytesIO(response.content))\n",
        "    im = np.array(img, dtype=np.uint8)\n",
        "    # Create figure, axes, and display the image\n",
        "    fig,ax = plt.subplots(1)\n",
        "    ax.imshow(im)\n",
        "    # Draw the bounding boxes\n",
        "    for answer in answers[id]['boundingBoxes']:\n",
        "      rect = patches.Rectangle((answer['left'],answer['top']),\n",
        "                              answer['width'],answer['height'],\n",
        "                              linewidth=1,edgecolor='#32cd32',facecolor='none', \n",
        "                              hatch='x', label=answer['label'])\n",
        "      ax.add_patch(rect)\n",
        "      ax.annotate(answer['label'], (answer['left'],answer['top']+15),\n",
        "                  color='w', weight='bold')\n",
        "    # Show the bounding box\n",
        "    plt.show()\n",
        "    goodLabels = input('How many of the ' + str(answers[id]['numBoxes']) + ' labels are good? \\n')\n",
        "    answersReview[id]['goodLabels']= int(goodLabels)"
      ],
      "execution_count": 201,
      "outputs": [
        {
          "output_type": "display_data",
          "data": {
            "image/png": "[encoded data removed]",
            "text/plain": [
              "<Figure size 432x288 with 1 Axes>"
            ]
          },
          "metadata": {
            "tags": [],
            "needs_background": "light"
          }
        },
        {
          "output_type": "error",
          "ename": "KeyboardInterrupt",
          "evalue": "ignored",
          "traceback": [
            "\u001b[0;31m---------------------------------------------------------------------------\u001b[0m",
            "\u001b[0;31mKeyboardInterrupt\u001b[0m                         Traceback (most recent call last)",
            "\u001b[0;32m/usr/local/lib/python3.6/dist-packages/ipykernel/kernelbase.py\u001b[0m in \u001b[0;36m_input_request\u001b[0;34m(self, prompt, ident, parent, password)\u001b[0m\n\u001b[1;32m    728\u001b[0m             \u001b[0;32mtry\u001b[0m\u001b[0;34m:\u001b[0m\u001b[0;34m\u001b[0m\u001b[0;34m\u001b[0m\u001b[0m\n\u001b[0;32m--> 729\u001b[0;31m                 \u001b[0mident\u001b[0m\u001b[0;34m,\u001b[0m \u001b[0mreply\u001b[0m \u001b[0;34m=\u001b[0m \u001b[0mself\u001b[0m\u001b[0;34m.\u001b[0m\u001b[0msession\u001b[0m\u001b[0;34m.\u001b[0m\u001b[0mrecv\u001b[0m\u001b[0;34m(\u001b[0m\u001b[0mself\u001b[0m\u001b[0;34m.\u001b[0m\u001b[0mstdin_socket\u001b[0m\u001b[0;34m,\u001b[0m \u001b[0;36m0\u001b[0m\u001b[0;34m)\u001b[0m\u001b[0;34m\u001b[0m\u001b[0;34m\u001b[0m\u001b[0m\n\u001b[0m\u001b[1;32m    730\u001b[0m             \u001b[0;32mexcept\u001b[0m \u001b[0mException\u001b[0m\u001b[0;34m:\u001b[0m\u001b[0;34m\u001b[0m\u001b[0;34m\u001b[0m\u001b[0m\n",
            "\u001b[0;32m/usr/local/lib/python3.6/dist-packages/jupyter_client/session.py\u001b[0m in \u001b[0;36mrecv\u001b[0;34m(self, socket, mode, content, copy)\u001b[0m\n\u001b[1;32m    802\u001b[0m         \u001b[0;32mtry\u001b[0m\u001b[0;34m:\u001b[0m\u001b[0;34m\u001b[0m\u001b[0;34m\u001b[0m\u001b[0m\n\u001b[0;32m--> 803\u001b[0;31m             \u001b[0mmsg_list\u001b[0m \u001b[0;34m=\u001b[0m \u001b[0msocket\u001b[0m\u001b[0;34m.\u001b[0m\u001b[0mrecv_multipart\u001b[0m\u001b[0;34m(\u001b[0m\u001b[0mmode\u001b[0m\u001b[0;34m,\u001b[0m \u001b[0mcopy\u001b[0m\u001b[0;34m=\u001b[0m\u001b[0mcopy\u001b[0m\u001b[0;34m)\u001b[0m\u001b[0;34m\u001b[0m\u001b[0;34m\u001b[0m\u001b[0m\n\u001b[0m\u001b[1;32m    804\u001b[0m         \u001b[0;32mexcept\u001b[0m \u001b[0mzmq\u001b[0m\u001b[0;34m.\u001b[0m\u001b[0mZMQError\u001b[0m \u001b[0;32mas\u001b[0m \u001b[0me\u001b[0m\u001b[0;34m:\u001b[0m\u001b[0;34m\u001b[0m\u001b[0;34m\u001b[0m\u001b[0m\n",
            "\u001b[0;32m/usr/local/lib/python3.6/dist-packages/zmq/sugar/socket.py\u001b[0m in \u001b[0;36mrecv_multipart\u001b[0;34m(self, flags, copy, track)\u001b[0m\n\u001b[1;32m    490\u001b[0m         \"\"\"\n\u001b[0;32m--> 491\u001b[0;31m         \u001b[0mparts\u001b[0m \u001b[0;34m=\u001b[0m \u001b[0;34m[\u001b[0m\u001b[0mself\u001b[0m\u001b[0;34m.\u001b[0m\u001b[0mrecv\u001b[0m\u001b[0;34m(\u001b[0m\u001b[0mflags\u001b[0m\u001b[0;34m,\u001b[0m \u001b[0mcopy\u001b[0m\u001b[0;34m=\u001b[0m\u001b[0mcopy\u001b[0m\u001b[0;34m,\u001b[0m \u001b[0mtrack\u001b[0m\u001b[0;34m=\u001b[0m\u001b[0mtrack\u001b[0m\u001b[0;34m)\u001b[0m\u001b[0;34m]\u001b[0m\u001b[0;34m\u001b[0m\u001b[0;34m\u001b[0m\u001b[0m\n\u001b[0m\u001b[1;32m    492\u001b[0m         \u001b[0;31m# have first part already, only loop while more to receive\u001b[0m\u001b[0;34m\u001b[0m\u001b[0;34m\u001b[0m\u001b[0;34m\u001b[0m\u001b[0m\n",
            "\u001b[0;32mzmq/backend/cython/socket.pyx\u001b[0m in \u001b[0;36mzmq.backend.cython.socket.Socket.recv\u001b[0;34m()\u001b[0m\n",
            "\u001b[0;32mzmq/backend/cython/socket.pyx\u001b[0m in \u001b[0;36mzmq.backend.cython.socket.Socket.recv\u001b[0;34m()\u001b[0m\n",
            "\u001b[0;32mzmq/backend/cython/socket.pyx\u001b[0m in \u001b[0;36mzmq.backend.cython.socket._recv_copy\u001b[0;34m()\u001b[0m\n",
            "\u001b[0;32m/usr/local/lib/python3.6/dist-packages/zmq/backend/cython/checkrc.pxd\u001b[0m in \u001b[0;36mzmq.backend.cython.checkrc._check_rc\u001b[0;34m()\u001b[0m\n",
            "\u001b[0;31mKeyboardInterrupt\u001b[0m: ",
            "\nDuring handling of the above exception, another exception occurred:\n",
            "\u001b[0;31mKeyboardInterrupt\u001b[0m                         Traceback (most recent call last)",
            "\u001b[0;32m<ipython-input-201-34d3cef8db78>\u001b[0m in \u001b[0;36m<module>\u001b[0;34m()\u001b[0m\n\u001b[1;32m     18\u001b[0m     \u001b[0;31m# Show the bounding box\u001b[0m\u001b[0;34m\u001b[0m\u001b[0;34m\u001b[0m\u001b[0;34m\u001b[0m\u001b[0m\n\u001b[1;32m     19\u001b[0m     \u001b[0mplt\u001b[0m\u001b[0;34m.\u001b[0m\u001b[0mshow\u001b[0m\u001b[0;34m(\u001b[0m\u001b[0;34m)\u001b[0m\u001b[0;34m\u001b[0m\u001b[0;34m\u001b[0m\u001b[0m\n\u001b[0;32m---> 20\u001b[0;31m     \u001b[0mgoodBoxes\u001b[0m \u001b[0;34m=\u001b[0m \u001b[0minput\u001b[0m\u001b[0;34m(\u001b[0m\u001b[0;34m'How many of the '\u001b[0m \u001b[0;34m+\u001b[0m \u001b[0mstr\u001b[0m\u001b[0;34m(\u001b[0m\u001b[0manswers\u001b[0m\u001b[0;34m[\u001b[0m\u001b[0mid\u001b[0m\u001b[0;34m]\u001b[0m\u001b[0;34m[\u001b[0m\u001b[0;34m'numBoxes'\u001b[0m\u001b[0;34m]\u001b[0m\u001b[0;34m)\u001b[0m \u001b[0;34m+\u001b[0m \u001b[0;34m' bounding boxes are good? \\n'\u001b[0m\u001b[0;34m)\u001b[0m\u001b[0;34m\u001b[0m\u001b[0;34m\u001b[0m\u001b[0m\n\u001b[0m\u001b[1;32m     21\u001b[0m     \u001b[0manswersReview\u001b[0m\u001b[0;34m[\u001b[0m\u001b[0mid\u001b[0m\u001b[0;34m]\u001b[0m\u001b[0;34m[\u001b[0m\u001b[0;34m'goodBoxes'\u001b[0m\u001b[0;34m]\u001b[0m \u001b[0;34m=\u001b[0m \u001b[0mint\u001b[0m\u001b[0;34m(\u001b[0m\u001b[0mgoodBoxes\u001b[0m\u001b[0;34m)\u001b[0m\u001b[0;34m\u001b[0m\u001b[0;34m\u001b[0m\u001b[0m\n\u001b[1;32m     22\u001b[0m     \u001b[0mgoodLabels\u001b[0m \u001b[0;34m=\u001b[0m \u001b[0minput\u001b[0m\u001b[0;34m(\u001b[0m\u001b[0;34m'How many of the '\u001b[0m \u001b[0;34m+\u001b[0m \u001b[0mstr\u001b[0m\u001b[0;34m(\u001b[0m\u001b[0manswers\u001b[0m\u001b[0;34m[\u001b[0m\u001b[0mid\u001b[0m\u001b[0;34m]\u001b[0m\u001b[0;34m[\u001b[0m\u001b[0;34m'numBoxes'\u001b[0m\u001b[0;34m]\u001b[0m\u001b[0;34m)\u001b[0m \u001b[0;34m+\u001b[0m \u001b[0;34m' labels are good? \\n'\u001b[0m\u001b[0;34m)\u001b[0m\u001b[0;34m\u001b[0m\u001b[0;34m\u001b[0m\u001b[0m\n",
            "\u001b[0;32m/usr/local/lib/python3.6/dist-packages/ipykernel/kernelbase.py\u001b[0m in \u001b[0;36mraw_input\u001b[0;34m(self, prompt)\u001b[0m\n\u001b[1;32m    702\u001b[0m             \u001b[0mself\u001b[0m\u001b[0;34m.\u001b[0m\u001b[0m_parent_ident\u001b[0m\u001b[0;34m,\u001b[0m\u001b[0;34m\u001b[0m\u001b[0;34m\u001b[0m\u001b[0m\n\u001b[1;32m    703\u001b[0m             \u001b[0mself\u001b[0m\u001b[0;34m.\u001b[0m\u001b[0m_parent_header\u001b[0m\u001b[0;34m,\u001b[0m\u001b[0;34m\u001b[0m\u001b[0;34m\u001b[0m\u001b[0m\n\u001b[0;32m--> 704\u001b[0;31m             \u001b[0mpassword\u001b[0m\u001b[0;34m=\u001b[0m\u001b[0;32mFalse\u001b[0m\u001b[0;34m,\u001b[0m\u001b[0;34m\u001b[0m\u001b[0;34m\u001b[0m\u001b[0m\n\u001b[0m\u001b[1;32m    705\u001b[0m         )\n\u001b[1;32m    706\u001b[0m \u001b[0;34m\u001b[0m\u001b[0m\n",
            "\u001b[0;32m/usr/local/lib/python3.6/dist-packages/ipykernel/kernelbase.py\u001b[0m in \u001b[0;36m_input_request\u001b[0;34m(self, prompt, ident, parent, password)\u001b[0m\n\u001b[1;32m    732\u001b[0m             \u001b[0;32mexcept\u001b[0m \u001b[0mKeyboardInterrupt\u001b[0m\u001b[0;34m:\u001b[0m\u001b[0;34m\u001b[0m\u001b[0;34m\u001b[0m\u001b[0m\n\u001b[1;32m    733\u001b[0m                 \u001b[0;31m# re-raise KeyboardInterrupt, to truncate traceback\u001b[0m\u001b[0;34m\u001b[0m\u001b[0;34m\u001b[0m\u001b[0;34m\u001b[0m\u001b[0m\n\u001b[0;32m--> 734\u001b[0;31m                 \u001b[0;32mraise\u001b[0m \u001b[0mKeyboardInterrupt\u001b[0m\u001b[0;34m\u001b[0m\u001b[0;34m\u001b[0m\u001b[0m\n\u001b[0m\u001b[1;32m    735\u001b[0m             \u001b[0;32melse\u001b[0m\u001b[0;34m:\u001b[0m\u001b[0;34m\u001b[0m\u001b[0;34m\u001b[0m\u001b[0m\n\u001b[1;32m    736\u001b[0m                 \u001b[0;32mbreak\u001b[0m\u001b[0;34m\u001b[0m\u001b[0;34m\u001b[0m\u001b[0m\n",
            "\u001b[0;31mKeyboardInterrupt\u001b[0m: "
          ]
        }
      ]
    },
    {
      "cell_type": "code",
      "metadata": {
        "id": "ddKbHw9yzl6W"
      },
      "source": [
        "# count good bounding boxes\n",
        "for id in answers:\n",
        "  if answers[id]['numBoxes'] != 0:\n",
        "    response = requests.get(images[idMapper[id]['ImageKey']]['image'].url)\n",
        "    img = Image.open(BytesIO(response.content))\n",
        "    im = np.array(img, dtype=np.uint8)\n",
        "    # Create figure, axes, and display the image\n",
        "    fig,ax = plt.subplots(1)\n",
        "    ax.imshow(im)\n",
        "    # Draw the bounding boxes\n",
        "    for answer in answers[id]['boundingBoxes']:\n",
        "      rect = patches.Rectangle((answer['left'],answer['top']),\n",
        "                              answer['width'],answer['height'],\n",
        "                              linewidth=1,edgecolor='#32cd32',facecolor='none', \n",
        "                              hatch='x', label=answer['label'])\n",
        "      ax.add_patch(rect)\n",
        "      ax.annotate(answer['label'], (answer['left'],answer['top']+15),\n",
        "                  color='w', weight='bold')\n",
        "    # Show the bounding box\n",
        "    plt.show()\n",
        "    goodBoxes = input('How many of the ' + str(answers[id]['numBoxes']) + ' bounding boxes are good? \\n')\n",
        "    answersReview[id]['goodBoxes'] = int(goodBoxes)"
      ],
      "execution_count": null,
      "outputs": []
    },
    {
      "cell_type": "code",
      "metadata": {
        "id": "bdRVOQtcV9FY"
      },
      "source": [
        "workerAnswers = {}\n",
        "for id in answers:\n",
        "  workerId = idMapper[id]['WorkerId']\n",
        "  if workerId not in workerAnswers.keys():\n",
        "    workerAnswers[workerId] = {'AssignmentIds': [id], 'numHITs': 1, 'correctRate' : answers[id]['numCorrect']/answers[id]['numBoxes']}\n",
        "  else:\n",
        "    currentWorker = workerAnswers[workerId]\n",
        "    currentWorker['AssignmentIds'].append(id)\n",
        "    currentWorker['numHITs'] += 1\n",
        "    currentWorker['correctRate'] = np.mean([currentWorker['correctRate'],answers[id]['numCorrect']/answers[id]['numBoxes']])"
      ],
      "execution_count": 76,
      "outputs": []
    },
    {
      "cell_type": "code",
      "metadata": {
        "id": "UGfMMH-DW5n4",
        "outputId": "0df588b4-b805-486a-b0b6-fc356c1baeb5",
        "colab": {
          "base_uri": "https://localhost:8080/",
          "height": 680
        }
      },
      "source": [
        "workerAnswers"
      ],
      "execution_count": 77,
      "outputs": [
        {
          "output_type": "execute_result",
          "data": {
            "text/plain": [
              "{'A12PUQIBXRBOXV': {'AssignmentIds': ['3NPFYT4IZC4LEERJAFLMUXJJMETGXJ'],\n",
              "  'correctRate': 1.0,\n",
              "  'numHITs': 1},\n",
              " 'A173A97OFDAX9F': {'AssignmentIds': ['3OSWBBLG1EXI2UHS8PKEOCGM9KADXZ'],\n",
              "  'correctRate': 0.7142857142857143,\n",
              "  'numHITs': 1},\n",
              " 'A1QA8GMR38BWS2': {'AssignmentIds': ['3HYA4D452RJEZYSRB6UBMMPB8QVF2B'],\n",
              "  'correctRate': 0.0,\n",
              "  'numHITs': 1},\n",
              " 'A23CERU5V5SZ7U': {'AssignmentIds': ['3FDJT1UU748HEH3SU0N606KS0UYK5A'],\n",
              "  'correctRate': 0.0,\n",
              "  'numHITs': 1},\n",
              " 'A2742BUORZM4IH': {'AssignmentIds': ['3RWE2M8QWHAJRG2UU79AB355DINN0U'],\n",
              "  'correctRate': 1.0,\n",
              "  'numHITs': 1},\n",
              " 'A2I1O12DT5L5IM': {'AssignmentIds': ['3S96KQ6I9M4BLD883FJHZ9VGWOGTDQ'],\n",
              "  'correctRate': 0.0,\n",
              "  'numHITs': 1},\n",
              " 'A30Y3H3UJ9QKWV': {'AssignmentIds': ['3RANCT1ZVFHX6TPDPOIL9FTICJCUBG'],\n",
              "  'correctRate': 1.0,\n",
              "  'numHITs': 1},\n",
              " 'A3GJ04C6EY2MG1': {'AssignmentIds': ['3WOKGM4L71G19126VM9NQS5A3RR0OJ'],\n",
              "  'correctRate': 0.0,\n",
              "  'numHITs': 1},\n",
              " 'A3IA90BFT8U8VU': {'AssignmentIds': ['3K5TEWLKGVB76GSJ0OK7ROZELFUVI2'],\n",
              "  'correctRate': 1.0,\n",
              "  'numHITs': 1},\n",
              " 'A3K0I31URVCAWG': {'AssignmentIds': ['3WZ36BJEV3GI6GAOPJSB4J7GT34TBJ'],\n",
              "  'correctRate': 0.5,\n",
              "  'numHITs': 1},\n",
              " 'A3UBJSM1VY3OOC': {'AssignmentIds': ['33SA9F9TRXU850Q2UFZCSBK00W1EW0'],\n",
              "  'correctRate': 0.0,\n",
              "  'numHITs': 1},\n",
              " 'AZCGF2D7QIO10': {'AssignmentIds': ['3EWIJTFFVO7FXAPH186RLGBWZRT0ER'],\n",
              "  'correctRate': 1.0,\n",
              "  'numHITs': 1},\n",
              " 'AZV3UMW8QTMKA': {'AssignmentIds': ['3YOH7BII097YCBI70R5J44ERDJWKVF'],\n",
              "  'correctRate': 1.0,\n",
              "  'numHITs': 1}}"
            ]
          },
          "metadata": {
            "tags": []
          },
          "execution_count": 77
        }
      ]
    },
    {
      "cell_type": "code",
      "metadata": {
        "id": "V-QfrTn7tn8E",
        "outputId": "a2b670d1-58ce-462c-9a33-f44acd50aa3f",
        "colab": {
          "base_uri": "https://localhost:8080/",
          "height": 442
        }
      },
      "source": [
        "object_inst    # most salient number of things"
      ],
      "execution_count": 45,
      "outputs": [
        {
          "output_type": "execute_result",
          "data": {
            "text/plain": [
              "{'airplane': 1,\n",
              " 'alligator': 1,\n",
              " 'animal': 2,\n",
              " 'ant': 2,\n",
              " 'apple': 2,\n",
              " 'applesauce': 3,\n",
              " 'art': 2,\n",
              " 'backpack': 1,\n",
              " 'ball': 2,\n",
              " 'banana': 1,\n",
              " 'baseball glove': 1,\n",
              " 'bear': 2,\n",
              " 'block': 1,\n",
              " 'book': 3,\n",
              " 'chair': 1,\n",
              " 'door': 1,\n",
              " 'melon': 1,\n",
              " 'plate': 1,\n",
              " 'rabbit': 3,\n",
              " 'sofa or couch': 1,\n",
              " 'table': 1,\n",
              " 'toy (object)': 1,\n",
              " 'train': 1,\n",
              " 'tricycle': 2,\n",
              " 'window': 1}"
            ]
          },
          "metadata": {
            "tags": []
          },
          "execution_count": 45
        }
      ]
    },
    {
      "cell_type": "markdown",
      "metadata": {
        "id": "57BNJbskmVE5"
      },
      "source": [
        "Modified https://github.com/Tony607/voc2coco/blob/master/voc2coco.py code to create a coco json file from our dictionaries!"
      ]
    },
    {
      "cell_type": "code",
      "metadata": {
        "id": "0CyFPAmNW8VV"
      },
      "source": [
        "def convert(categories, images, answers, json_file):\n",
        "  json_dict = {\"images\": [], \"type\": \"instances\", \"annotations\": [], \"categories\": []}\n",
        "  bnd_id = 1      # bounding box id\n",
        "  IDsSeen=[]\n",
        "  for AssignmentId in answers.keys():\n",
        "    HITId = idMapper[AssignmentId]['HITId']\n",
        "    im = images[HITId]\n",
        "    filename = im.url\n",
        "    image_id = get_filename_as_int(filename) \n",
        "    if image_id not in IDsSeen:\n",
        "      width = im.width\n",
        "      height = im.height\n",
        "      image = {\n",
        "          \"file_name\": filename,\n",
        "          \"height\": height,\n",
        "          \"width\": width,\n",
        "          \"id\": image_id}\n",
        "      json_dict[\"images\"].append(image)\n",
        "      IDsSeen.append(image_id)\n",
        "    for answer in answers[AssignmentId]:\n",
        "      category = answer['label'] \n",
        "      if category not in categories.keys():\n",
        "          new_id = len(categories)+1\n",
        "          categories[category] = new_id\n",
        "      category_id = categories[category]\n",
        "      xmin = answer['left']\n",
        "      ymin = answer['top']\n",
        "      width = answer['width']\n",
        "      height = answer['height']\n",
        "      image_id = get_filename_as_int(filename)\n",
        "      ann = {\n",
        "          \"area\": width * height,\n",
        "          \"iscrowd\": 0,\n",
        "          \"image_id\": image_id,\n",
        "          \"bbox\": [xmin, ymin, width, height],\n",
        "          \"category_id\": category_id,\n",
        "          \"id\": bnd_id,\n",
        "          \"ignore\": 0,\n",
        "          \"segmentation\": [],\n",
        "      }\n",
        "      json_dict[\"annotations\"].append(ann)\n",
        "      bnd_id = bnd_id + 1\n",
        "  for cate, cid in categories.items():\n",
        "    cat = {\"supercategory\": \"none\", \"id\": cid, \"name\": cate}\n",
        "    json_dict[\"categories\"].append(cat)\n",
        "\n",
        "  os.makedirs(os.path.dirname(json_file), exist_ok=True)\n",
        "  json_fp = open(json_file, \"w\")\n",
        "  json_str = json.dumps(json_dict)\n",
        "  json_fp.write(json_str)\n",
        "  json_fp.close()"
      ],
      "execution_count": null,
      "outputs": []
    },
    {
      "cell_type": "code",
      "metadata": {
        "id": "NSUZ2zONnifG"
      },
      "source": [
        "convert(categories=categories, images=images, answers=answers, json_file='/content/drive/My Drive/CSLI/pilotResults.json')"
      ],
      "execution_count": null,
      "outputs": []
    },
    {
      "cell_type": "code",
      "metadata": {
        "id": "zFyfb4eiPTJJ",
        "outputId": "669cefc5-86bd-4720-82c6-595fe7ee9d74",
        "colab": {
          "base_uri": "https://localhost:8080/",
          "height": 1000
        }
      },
      "source": [
        "import json\n",
        "with open('/content/drive/My Drive/CSLI/pilotData2.json') as json_file:\n",
        "    data = json.load(json_file)\n",
        "data"
      ],
      "execution_count": null,
      "outputs": [
        {
          "output_type": "execute_result",
          "data": {
            "text/plain": [
              "{'annotations': [{'area': 14464,\n",
              "   'bbox': [443, 292, 128, 113],\n",
              "   'category_id': 324,\n",
              "   'id': 1,\n",
              "   'ignore': 0,\n",
              "   'image_id': 5250,\n",
              "   'iscrowd': 0,\n",
              "   'segmentation': []},\n",
              "  {'area': 34236,\n",
              "   'bbox': [67, 329, 317, 108],\n",
              "   'category_id': 324,\n",
              "   'id': 2,\n",
              "   'ignore': 0,\n",
              "   'image_id': 5250,\n",
              "   'iscrowd': 0,\n",
              "   'segmentation': []},\n",
              "  {'area': 5658,\n",
              "   'bbox': [110, 171, 82, 69],\n",
              "   'category_id': 324,\n",
              "   'id': 3,\n",
              "   'ignore': 0,\n",
              "   'image_id': 5250,\n",
              "   'iscrowd': 0,\n",
              "   'segmentation': []},\n",
              "  {'area': 3136,\n",
              "   'bbox': [41, 184, 49, 64],\n",
              "   'category_id': 324,\n",
              "   'id': 4,\n",
              "   'ignore': 0,\n",
              "   'image_id': 5250,\n",
              "   'iscrowd': 0,\n",
              "   'segmentation': []},\n",
              "  {'area': 8977,\n",
              "   'bbox': [28, 255, 47, 191],\n",
              "   'category_id': 324,\n",
              "   'id': 5,\n",
              "   'ignore': 0,\n",
              "   'image_id': 5250,\n",
              "   'iscrowd': 0,\n",
              "   'segmentation': []},\n",
              "  {'area': 16608,\n",
              "   'bbox': [232, 206, 173, 96],\n",
              "   'category_id': 324,\n",
              "   'id': 6,\n",
              "   'ignore': 0,\n",
              "   'image_id': 5250,\n",
              "   'iscrowd': 0,\n",
              "   'segmentation': []}],\n",
              " 'categories': [{'id': 1, 'name': 'airplane', 'supercategory': 'none'},\n",
              "  {'id': 2, 'name': 'alligator', 'supercategory': 'none'},\n",
              "  {'id': 3, 'name': 'animal', 'supercategory': 'none'},\n",
              "  {'id': 4, 'name': 'ant', 'supercategory': 'none'},\n",
              "  {'id': 5, 'name': 'apple', 'supercategory': 'none'},\n",
              "  {'id': 6, 'name': 'applesauce', 'supercategory': 'none'},\n",
              "  {'id': 7, 'name': 'art', 'supercategory': 'none'},\n",
              "  {'id': 8, 'name': 'backpack', 'supercategory': 'none'},\n",
              "  {'id': 9, 'name': 'backyard', 'supercategory': 'none'},\n",
              "  {'id': 10, 'name': 'bag', 'supercategory': 'none'},\n",
              "  {'id': 11, 'name': 'ball', 'supercategory': 'none'},\n",
              "  {'id': 12, 'name': 'balloon', 'supercategory': 'none'},\n",
              "  {'id': 13, 'name': 'banana', 'supercategory': 'none'},\n",
              "  {'id': 14, 'name': 'baseball glove', 'supercategory': 'none'},\n",
              "  {'id': 15, 'name': 'basket', 'supercategory': 'none'},\n",
              "  {'id': 16, 'name': 'bat', 'supercategory': 'none'},\n",
              "  {'id': 17, 'name': 'bathtub', 'supercategory': 'none'},\n",
              "  {'id': 18, 'name': 'beans', 'supercategory': 'none'},\n",
              "  {'id': 19, 'name': 'bear', 'supercategory': 'none'},\n",
              "  {'id': 20, 'name': 'bed', 'supercategory': 'none'},\n",
              "  {'id': 21, 'name': 'bee', 'supercategory': 'none'},\n",
              "  {'id': 22, 'name': 'bench', 'supercategory': 'none'},\n",
              "  {'id': 23, 'name': 'bicycle', 'supercategory': 'none'},\n",
              "  {'id': 24, 'name': 'bike stand', 'supercategory': 'none'},\n",
              "  {'id': 25, 'name': 'bird', 'supercategory': 'none'},\n",
              "  {'id': 26, 'name': 'blanket', 'supercategory': 'none'},\n",
              "  {'id': 27, 'name': 'blender', 'supercategory': 'none'},\n",
              "  {'id': 28, 'name': 'block', 'supercategory': 'none'},\n",
              "  {'id': 29, 'name': 'blocks', 'supercategory': 'none'},\n",
              "  {'id': 30, 'name': 'boat', 'supercategory': 'none'},\n",
              "  {'id': 31, 'name': 'book', 'supercategory': 'none'},\n",
              "  {'id': 32, 'name': 'boots', 'supercategory': 'none'},\n",
              "  {'id': 33, 'name': 'bottle', 'supercategory': 'none'},\n",
              "  {'id': 34, 'name': 'bouncer', 'supercategory': 'none'},\n",
              "  {'id': 35, 'name': 'bowl', 'supercategory': 'none'},\n",
              "  {'id': 36, 'name': 'box', 'supercategory': 'none'},\n",
              "  {'id': 37, 'name': 'bread', 'supercategory': 'none'},\n",
              "  {'id': 38, 'name': 'broccoli', 'supercategory': 'none'},\n",
              "  {'id': 39, 'name': 'broom', 'supercategory': 'none'},\n",
              "  {'id': 40, 'name': 'brush', 'supercategory': 'none'},\n",
              "  {'id': 41, 'name': 'bubbles', 'supercategory': 'none'},\n",
              "  {'id': 42, 'name': 'bucket', 'supercategory': 'none'},\n",
              "  {'id': 43, 'name': 'bug', 'supercategory': 'none'},\n",
              "  {'id': 44, 'name': 'bunny', 'supercategory': 'none'},\n",
              "  {'id': 45, 'name': 'bus', 'supercategory': 'none'},\n",
              "  {'id': 46, 'name': 'bush', 'supercategory': 'none'},\n",
              "  {'id': 47, 'name': 'butter', 'supercategory': 'none'},\n",
              "  {'id': 48, 'name': 'butterfly', 'supercategory': 'none'},\n",
              "  {'id': 49, 'name': 'button', 'supercategory': 'none'},\n",
              "  {'id': 50, 'name': 'cabinet', 'supercategory': 'none'},\n",
              "  {'id': 51, 'name': 'cake', 'supercategory': 'none'},\n",
              "  {'id': 52, 'name': 'camera', 'supercategory': 'none'},\n",
              "  {'id': 53, 'name': 'can (object)', 'supercategory': 'none'},\n",
              "  {'id': 54, 'name': 'candy', 'supercategory': 'none'},\n",
              "  {'id': 55, 'name': 'car', 'supercategory': 'none'},\n",
              "  {'id': 56, 'name': 'carrots', 'supercategory': 'none'},\n",
              "  {'id': 57, 'name': 'cat', 'supercategory': 'none'},\n",
              "  {'id': 58, 'name': 'cell phone', 'supercategory': 'none'},\n",
              "  {'id': 59, 'name': 'cereal', 'supercategory': 'none'},\n",
              "  {'id': 60, 'name': 'chair', 'supercategory': 'none'},\n",
              "  {'id': 61, 'name': 'chalk', 'supercategory': 'none'},\n",
              "  {'id': 62, 'name': 'changing table', 'supercategory': 'none'},\n",
              "  {'id': 63, 'name': 'cheerios', 'supercategory': 'none'},\n",
              "  {'id': 64, 'name': 'cheese', 'supercategory': 'none'},\n",
              "  {'id': 65, 'name': 'chicken (animal)', 'supercategory': 'none'},\n",
              "  {'id': 66, 'name': 'chicken (food)', 'supercategory': 'none'},\n",
              "  {'id': 67, 'name': 'chocolate', 'supercategory': 'none'},\n",
              "  {'id': 68, 'name': 'clock', 'supercategory': 'none'},\n",
              "  {'id': 69, 'name': 'closet', 'supercategory': 'none'},\n",
              "  {'id': 70, 'name': 'cloud', 'supercategory': 'none'},\n",
              "  {'id': 71, 'name': 'coffee', 'supercategory': 'none'},\n",
              "  {'id': 72, 'name': 'coin', 'supercategory': 'none'},\n",
              "  {'id': 73, 'name': 'coins', 'supercategory': 'none'},\n",
              "  {'id': 74, 'name': 'coke', 'supercategory': 'none'},\n",
              "  {'id': 75, 'name': 'comb', 'supercategory': 'none'},\n",
              "  {'id': 76, 'name': 'container', 'supercategory': 'none'},\n",
              "  {'id': 77, 'name': 'cookie', 'supercategory': 'none'},\n",
              "  {'id': 78, 'name': 'corn', 'supercategory': 'none'},\n",
              "  {'id': 79, 'name': 'cow', 'supercategory': 'none'},\n",
              "  {'id': 80, 'name': 'cracker', 'supercategory': 'none'},\n",
              "  {'id': 81, 'name': 'cradle', 'supercategory': 'none'},\n",
              "  {'id': 82, 'name': 'crayon', 'supercategory': 'none'},\n",
              "  {'id': 83, 'name': 'crayons', 'supercategory': 'none'},\n",
              "  {'id': 84, 'name': 'crib', 'supercategory': 'none'},\n",
              "  {'id': 85, 'name': 'cup', 'supercategory': 'none'},\n",
              "  {'id': 86, 'name': 'curtain', 'supercategory': 'none'},\n",
              "  {'id': 87, 'name': 'deer', 'supercategory': 'none'},\n",
              "  {'id': 88, 'name': 'desk', 'supercategory': 'none'},\n",
              "  {'id': 89, 'name': 'desktop', 'supercategory': 'none'},\n",
              "  {'id': 90, 'name': 'diaper', 'supercategory': 'none'},\n",
              "  {'id': 91, 'name': 'dining table', 'supercategory': 'none'},\n",
              "  {'id': 92, 'name': 'dish', 'supercategory': 'none'},\n",
              "  {'id': 93, 'name': 'dog', 'supercategory': 'none'},\n",
              "  {'id': 94, 'name': 'doll', 'supercategory': 'none'},\n",
              "  {'id': 95, 'name': 'donkey', 'supercategory': 'none'},\n",
              "  {'id': 96, 'name': 'donut', 'supercategory': 'none'},\n",
              "  {'id': 97, 'name': 'door', 'supercategory': 'none'},\n",
              "  {'id': 98, 'name': 'drawer', 'supercategory': 'none'},\n",
              "  {'id': 99, 'name': 'dress', 'supercategory': 'none'},\n",
              "  {'id': 100, 'name': 'drink (beverage)', 'supercategory': 'none'},\n",
              "  {'id': 101, 'name': 'dryer', 'supercategory': 'none'},\n",
              "  {'id': 102, 'name': 'duck', 'supercategory': 'none'},\n",
              "  {'id': 103, 'name': 'egg', 'supercategory': 'none'},\n",
              "  {'id': 104, 'name': 'elephant', 'supercategory': 'none'},\n",
              "  {'id': 105, 'name': 'eyeglasses', 'supercategory': 'none'},\n",
              "  {'id': 106, 'name': 'fan', 'supercategory': 'none'},\n",
              "  {'id': 107, 'name': 'fence', 'supercategory': 'none'},\n",
              "  {'id': 108, 'name': 'fire hydrant', 'supercategory': 'none'},\n",
              "  {'id': 109, 'name': 'firetruck', 'supercategory': 'none'},\n",
              "  {'id': 110, 'name': 'fish (animal)', 'supercategory': 'none'},\n",
              "  {'id': 111, 'name': 'fish (food)', 'supercategory': 'none'},\n",
              "  {'id': 112, 'name': 'flag', 'supercategory': 'none'},\n",
              "  {'id': 113, 'name': 'flower', 'supercategory': 'none'},\n",
              "  {'id': 114, 'name': 'food', 'supercategory': 'none'},\n",
              "  {'id': 115, 'name': 'fork', 'supercategory': 'none'},\n",
              "  {'id': 116, 'name': 'frame', 'supercategory': 'none'},\n",
              "  {'id': 117, 'name': 'french fries', 'supercategory': 'none'},\n",
              "  {'id': 118, 'name': 'frisbee', 'supercategory': 'none'},\n",
              "  {'id': 119, 'name': 'frog', 'supercategory': 'none'},\n",
              "  {'id': 120, 'name': 'fruit', 'supercategory': 'none'},\n",
              "  {'id': 121, 'name': 'game', 'supercategory': 'none'},\n",
              "  {'id': 122, 'name': 'garbage', 'supercategory': 'none'},\n",
              "  {'id': 123, 'name': 'garden', 'supercategory': 'none'},\n",
              "  {'id': 124, 'name': 'giraffe', 'supercategory': 'none'},\n",
              "  {'id': 125, 'name': 'glass', 'supercategory': 'none'},\n",
              "  {'id': 126, 'name': 'glasses', 'supercategory': 'none'},\n",
              "  {'id': 127, 'name': 'glue', 'supercategory': 'none'},\n",
              "  {'id': 128, 'name': 'goose', 'supercategory': 'none'},\n",
              "  {'id': 129, 'name': 'grapes', 'supercategory': 'none'},\n",
              "  {'id': 130, 'name': 'grass', 'supercategory': 'none'},\n",
              "  {'id': 131, 'name': 'green beans', 'supercategory': 'none'},\n",
              "  {'id': 132, 'name': 'guitar', 'supercategory': 'none'},\n",
              "  {'id': 133, 'name': 'gum', 'supercategory': 'none'},\n",
              "  {'id': 134, 'name': 'hair brush', 'supercategory': 'none'},\n",
              "  {'id': 135, 'name': 'hair drier', 'supercategory': 'none'},\n",
              "  {'id': 136, 'name': 'hamburger', 'supercategory': 'none'},\n",
              "  {'id': 137, 'name': 'hammer', 'supercategory': 'none'},\n",
              "  {'id': 138, 'name': 'handbag', 'supercategory': 'none'},\n",
              "  {'id': 139, 'name': 'hat', 'supercategory': 'none'},\n",
              "  {'id': 140, 'name': 'helicopter', 'supercategory': 'none'},\n",
              "  {'id': 141, 'name': 'hen', 'supercategory': 'none'},\n",
              "  {'id': 142, 'name': 'high chair', 'supercategory': 'none'},\n",
              "  {'id': 143, 'name': 'hook', 'supercategory': 'none'},\n",
              "  {'id': 144, 'name': 'horse', 'supercategory': 'none'},\n",
              "  {'id': 145, 'name': 'hose', 'supercategory': 'none'},\n",
              "  {'id': 146, 'name': 'hot dog', 'supercategory': 'none'},\n",
              "  {'id': 147, 'name': 'house or home', 'supercategory': 'none'},\n",
              "  {'id': 148, 'name': 'ice', 'supercategory': 'none'},\n",
              "  {'id': 149, 'name': 'ice cream', 'supercategory': 'none'},\n",
              "  {'id': 150, 'name': 'jacket', 'supercategory': 'none'},\n",
              "  {'id': 151, 'name': 'jar', 'supercategory': 'none'},\n",
              "  {'id': 152, 'name': 'jello', 'supercategory': 'none'},\n",
              "  {'id': 153, 'name': 'jelly', 'supercategory': 'none'},\n",
              "  {'id': 154, 'name': 'juice', 'supercategory': 'none'},\n",
              "  {'id': 155, 'name': 'keyboard', 'supercategory': 'none'},\n",
              "  {'id': 156, 'name': 'keys', 'supercategory': 'none'},\n",
              "  {'id': 157, 'name': 'kite', 'supercategory': 'none'},\n",
              "  {'id': 158, 'name': 'kitty', 'supercategory': 'none'},\n",
              "  {'id': 159, 'name': 'knife', 'supercategory': 'none'},\n",
              "  {'id': 160, 'name': 'ladder', 'supercategory': 'none'},\n",
              "  {'id': 161, 'name': 'lamb', 'supercategory': 'none'},\n",
              "  {'id': 162, 'name': 'lamp', 'supercategory': 'none'},\n",
              "  {'id': 163, 'name': 'laptop', 'supercategory': 'none'},\n",
              "  {'id': 164, 'name': 'lawn mower', 'supercategory': 'none'},\n",
              "  {'id': 165, 'name': 'leaf', 'supercategory': 'none'},\n",
              "  {'id': 166, 'name': 'light', 'supercategory': 'none'},\n",
              "  {'id': 167, 'name': 'light switch', 'supercategory': 'none'},\n",
              "  {'id': 168, 'name': 'lion', 'supercategory': 'none'},\n",
              "  {'id': 169, 'name': 'lollipop', 'supercategory': 'none'},\n",
              "  {'id': 170, 'name': 'magnet', 'supercategory': 'none'},\n",
              "  {'id': 171, 'name': 'maraca', 'supercategory': 'none'},\n",
              "  {'id': 172, 'name': 'marker', 'supercategory': 'none'},\n",
              "  {'id': 173, 'name': 'meat', 'supercategory': 'none'},\n",
              "  {'id': 174, 'name': 'medicine', 'supercategory': 'none'},\n",
              "  {'id': 175, 'name': 'melon', 'supercategory': 'none'},\n",
              "  {'id': 176, 'name': 'microwave', 'supercategory': 'none'},\n",
              "  {'id': 177, 'name': 'milk', 'supercategory': 'none'},\n",
              "  {'id': 178, 'name': 'mirror', 'supercategory': 'none'},\n",
              "  {'id': 179, 'name': 'mobile', 'supercategory': 'none'},\n",
              "  {'id': 180, 'name': 'mobile phone', 'supercategory': 'none'},\n",
              "  {'id': 181, 'name': 'money', 'supercategory': 'none'},\n",
              "  {'id': 182, 'name': 'monkey', 'supercategory': 'none'},\n",
              "  {'id': 183, 'name': 'moon', 'supercategory': 'none'},\n",
              "  {'id': 184, 'name': 'moose', 'supercategory': 'none'},\n",
              "  {'id': 185, 'name': 'mop', 'supercategory': 'none'},\n",
              "  {'id': 186, 'name': 'motorcycle', 'supercategory': 'none'},\n",
              "  {'id': 187, 'name': 'mouse', 'supercategory': 'none'},\n",
              "  {'id': 188, 'name': 'muffin', 'supercategory': 'none'},\n",
              "  {'id': 189, 'name': 'mug', 'supercategory': 'none'},\n",
              "  {'id': 190, 'name': 'nail', 'supercategory': 'none'},\n",
              "  {'id': 191, 'name': 'napkin', 'supercategory': 'none'},\n",
              "  {'id': 192, 'name': 'noodles', 'supercategory': 'none'},\n",
              "  {'id': 193, 'name': 'nuts', 'supercategory': 'none'},\n",
              "  {'id': 194, 'name': 'orange (food)', 'supercategory': 'none'},\n",
              "  {'id': 195, 'name': 'other', 'supercategory': 'none'},\n",
              "  {'id': 196, 'name': 'oven', 'supercategory': 'none'},\n",
              "  {'id': 197, 'name': 'owl', 'supercategory': 'none'},\n",
              "  {'id': 198, 'name': 'paint', 'supercategory': 'none'},\n",
              "  {'id': 199, 'name': 'painting', 'supercategory': 'none'},\n",
              "  {'id': 200, 'name': 'pan', 'supercategory': 'none'},\n",
              "  {'id': 201, 'name': 'pancake', 'supercategory': 'none'},\n",
              "  {'id': 202, 'name': 'pants', 'supercategory': 'none'},\n",
              "  {'id': 203, 'name': 'paper', 'supercategory': 'none'},\n",
              "  {'id': 204, 'name': 'parking meter', 'supercategory': 'none'},\n",
              "  {'id': 205, 'name': 'peanut butter', 'supercategory': 'none'},\n",
              "  {'id': 206, 'name': 'peas', 'supercategory': 'none'},\n",
              "  {'id': 207, 'name': 'pen', 'supercategory': 'none'},\n",
              "  {'id': 208, 'name': 'pencil', 'supercategory': 'none'},\n",
              "  {'id': 209, 'name': 'penguin', 'supercategory': 'none'},\n",
              "  {'id': 210, 'name': 'penny', 'supercategory': 'none'},\n",
              "  {'id': 211, 'name': 'pet toy', 'supercategory': 'none'},\n",
              "  {'id': 212, 'name': 'piano', 'supercategory': 'none'},\n",
              "  {'id': 213, 'name': 'pickle', 'supercategory': 'none'},\n",
              "  {'id': 214, 'name': 'picture', 'supercategory': 'none'},\n",
              "  {'id': 215, 'name': 'pig', 'supercategory': 'none'},\n",
              "  {'id': 216, 'name': 'pillow', 'supercategory': 'none'},\n",
              "  {'id': 217, 'name': 'pizza', 'supercategory': 'none'},\n",
              "  {'id': 218, 'name': 'plant', 'supercategory': 'none'},\n",
              "  {'id': 219, 'name': 'plate', 'supercategory': 'none'},\n",
              "  {'id': 220, 'name': 'play dough', 'supercategory': 'none'},\n",
              "  {'id': 221, 'name': 'play gym', 'supercategory': 'none'},\n",
              "  {'id': 222, 'name': 'play mat', 'supercategory': 'none'},\n",
              "  {'id': 223, 'name': 'play pen', 'supercategory': 'none'},\n",
              "  {'id': 224, 'name': 'pony', 'supercategory': 'none'},\n",
              "  {'id': 225, 'name': 'pool', 'supercategory': 'none'},\n",
              "  {'id': 226, 'name': 'popcorn', 'supercategory': 'none'},\n",
              "  {'id': 227, 'name': 'popsicle', 'supercategory': 'none'},\n",
              "  {'id': 228, 'name': 'porch', 'supercategory': 'none'},\n",
              "  {'id': 229, 'name': 'pot', 'supercategory': 'none'},\n",
              "  {'id': 230, 'name': 'potato', 'supercategory': 'none'},\n",
              "  {'id': 231, 'name': 'potato chip', 'supercategory': 'none'},\n",
              "  {'id': 232, 'name': 'potted plant', 'supercategory': 'none'},\n",
              "  {'id': 233, 'name': 'potty', 'supercategory': 'none'},\n",
              "  {'id': 234, 'name': 'present', 'supercategory': 'none'},\n",
              "  {'id': 235, 'name': 'pretzel', 'supercategory': 'none'},\n",
              "  {'id': 236, 'name': 'pudding', 'supercategory': 'none'},\n",
              "  {'id': 237, 'name': 'pumpkin', 'supercategory': 'none'},\n",
              "  {'id': 238, 'name': 'puppy', 'supercategory': 'none'},\n",
              "  {'id': 239, 'name': 'purse', 'supercategory': 'none'},\n",
              "  {'id': 240, 'name': 'puzzle', 'supercategory': 'none'},\n",
              "  {'id': 241, 'name': 'rabbit', 'supercategory': 'none'},\n",
              "  {'id': 242, 'name': 'radio', 'supercategory': 'none'},\n",
              "  {'id': 243, 'name': 'rain', 'supercategory': 'none'},\n",
              "  {'id': 244, 'name': 'raisin', 'supercategory': 'none'},\n",
              "  {'id': 245, 'name': 'rattle', 'supercategory': 'none'},\n",
              "  {'id': 246, 'name': 'recycling bin', 'supercategory': 'none'},\n",
              "  {'id': 247, 'name': 'refrigerator', 'supercategory': 'none'},\n",
              "  {'id': 248, 'name': 'remote', 'supercategory': 'none'},\n",
              "  {'id': 249, 'name': 'rock', 'supercategory': 'none'},\n",
              "  {'id': 250, 'name': 'rocker', 'supercategory': 'none'},\n",
              "  {'id': 251, 'name': 'rocking chair', 'supercategory': 'none'},\n",
              "  {'id': 252, 'name': 'roof', 'supercategory': 'none'},\n",
              "  {'id': 253, 'name': 'rooster', 'supercategory': 'none'},\n",
              "  {'id': 254, 'name': 'salt', 'supercategory': 'none'},\n",
              "  {'id': 255, 'name': 'sandbox', 'supercategory': 'none'},\n",
              "  {'id': 256, 'name': 'sandwich', 'supercategory': 'none'},\n",
              "  {'id': 257, 'name': 'sauce', 'supercategory': 'none'},\n",
              "  {'id': 258, 'name': 'scissors', 'supercategory': 'none'},\n",
              "  {'id': 259, 'name': 'screen', 'supercategory': 'none'},\n",
              "  {'id': 260, 'name': 'seeds', 'supercategory': 'none'},\n",
              "  {'id': 261, 'name': 'sheep', 'supercategory': 'none'},\n",
              "  {'id': 262, 'name': 'shelf', 'supercategory': 'none'},\n",
              "  {'id': 263, 'name': 'shirt', 'supercategory': 'none'},\n",
              "  {'id': 264, 'name': 'shoe', 'supercategory': 'none'},\n",
              "  {'id': 265, 'name': 'shorts', 'supercategory': 'none'},\n",
              "  {'id': 266, 'name': 'shovel', 'supercategory': 'none'},\n",
              "  {'id': 267, 'name': 'shower', 'supercategory': 'none'},\n",
              "  {'id': 268, 'name': 'sidewalk', 'supercategory': 'none'},\n",
              "  {'id': 269, 'name': 'sink', 'supercategory': 'none'},\n",
              "  {'id': 270, 'name': 'sippy cup', 'supercategory': 'none'},\n",
              "  {'id': 271, 'name': 'skateboard', 'supercategory': 'none'},\n",
              "  {'id': 272, 'name': 'skirt', 'supercategory': 'none'},\n",
              "  {'id': 273, 'name': 'skis', 'supercategory': 'none'},\n",
              "  {'id': 274, 'name': 'sky', 'supercategory': 'none'},\n",
              "  {'id': 275, 'name': 'sled', 'supercategory': 'none'},\n",
              "  {'id': 276, 'name': 'slide (object)', 'supercategory': 'none'},\n",
              "  {'id': 277, 'name': 'smartphone', 'supercategory': 'none'},\n",
              "  {'id': 278, 'name': 'snow', 'supercategory': 'none'},\n",
              "  {'id': 279, 'name': 'snowboard', 'supercategory': 'none'},\n",
              "  {'id': 280, 'name': 'snowman', 'supercategory': 'none'},\n",
              "  {'id': 281, 'name': 'soap', 'supercategory': 'none'},\n",
              "  {'id': 282, 'name': 'sock', 'supercategory': 'none'},\n",
              "  {'id': 283, 'name': 'soda/pop', 'supercategory': 'none'},\n",
              "  {'id': 284, 'name': 'sofa or couch', 'supercategory': 'none'},\n",
              "  {'id': 285, 'name': 'soil', 'supercategory': 'none'},\n",
              "  {'id': 286, 'name': 'soup', 'supercategory': 'none'},\n",
              "  {'id': 287, 'name': 'spaghetti', 'supercategory': 'none'},\n",
              "  {'id': 288, 'name': 'spoon', 'supercategory': 'none'},\n",
              "  {'id': 289, 'name': 'sports ball', 'supercategory': 'none'},\n",
              "  {'id': 290, 'name': 'sprinkler', 'supercategory': 'none'},\n",
              "  {'id': 291, 'name': 'squirrel', 'supercategory': 'none'},\n",
              "  {'id': 292, 'name': 'stairs', 'supercategory': 'none'},\n",
              "  {'id': 293, 'name': 'star', 'supercategory': 'none'},\n",
              "  {'id': 294, 'name': 'stick', 'supercategory': 'none'},\n",
              "  {'id': 295, 'name': 'stone', 'supercategory': 'none'},\n",
              "  {'id': 296, 'name': 'stool', 'supercategory': 'none'},\n",
              "  {'id': 297, 'name': 'stop sign', 'supercategory': 'none'},\n",
              "  {'id': 298, 'name': 'story', 'supercategory': 'none'},\n",
              "  {'id': 299, 'name': 'stove', 'supercategory': 'none'},\n",
              "  {'id': 300, 'name': 'strawberry', 'supercategory': 'none'},\n",
              "  {'id': 301, 'name': 'street', 'supercategory': 'none'},\n",
              "  {'id': 302, 'name': 'street sign', 'supercategory': 'none'},\n",
              "  {'id': 303, 'name': 'stroller', 'supercategory': 'none'},\n",
              "  {'id': 304, 'name': 'stuffed animal', 'supercategory': 'none'},\n",
              "  {'id': 305, 'name': 'suitcase', 'supercategory': 'none'},\n",
              "  {'id': 306, 'name': 'sun', 'supercategory': 'none'},\n",
              "  {'id': 307, 'name': 'surfboard', 'supercategory': 'none'},\n",
              "  {'id': 308, 'name': 'swing (object)', 'supercategory': 'none'},\n",
              "  {'id': 309, 'name': 'table', 'supercategory': 'none'},\n",
              "  {'id': 310, 'name': 'tape', 'supercategory': 'none'},\n",
              "  {'id': 311, 'name': 'teddy bear', 'supercategory': 'none'},\n",
              "  {'id': 312, 'name': 'telephone', 'supercategory': 'none'},\n",
              "  {'id': 313, 'name': 'television (tv)', 'supercategory': 'none'},\n",
              "  {'id': 314, 'name': 'tennis racket', 'supercategory': 'none'},\n",
              "  {'id': 315, 'name': 'tie', 'supercategory': 'none'},\n",
              "  {'id': 316, 'name': 'tiger', 'supercategory': 'none'},\n",
              "  {'id': 317, 'name': 'tissue or kleenex', 'supercategory': 'none'},\n",
              "  {'id': 318, 'name': 'toast', 'supercategory': 'none'},\n",
              "  {'id': 319, 'name': 'toaster', 'supercategory': 'none'},\n",
              "  {'id': 320, 'name': 'toilet', 'supercategory': 'none'},\n",
              "  {'id': 321, 'name': 'toothbrush', 'supercategory': 'none'},\n",
              "  {'id': 322, 'name': 'toothpaste', 'supercategory': 'none'},\n",
              "  {'id': 323, 'name': 'towel', 'supercategory': 'none'},\n",
              "  {'id': 324, 'name': 'toy (object)', 'supercategory': 'none'},\n",
              "  {'id': 325, 'name': 'tractor', 'supercategory': 'none'},\n",
              "  {'id': 326, 'name': 'traffic light', 'supercategory': 'none'},\n",
              "  {'id': 327, 'name': 'train', 'supercategory': 'none'},\n",
              "  {'id': 328, 'name': 'trash', 'supercategory': 'none'},\n",
              "  {'id': 329, 'name': 'trash can or garbage bin', 'supercategory': 'none'},\n",
              "  {'id': 330, 'name': 'tray', 'supercategory': 'none'},\n",
              "  {'id': 331, 'name': 'tree', 'supercategory': 'none'},\n",
              "  {'id': 332, 'name': 'tricycle', 'supercategory': 'none'},\n",
              "  {'id': 333, 'name': 'truck', 'supercategory': 'none'},\n",
              "  {'id': 334, 'name': 'tuna', 'supercategory': 'none'},\n",
              "  {'id': 335, 'name': 'turkey', 'supercategory': 'none'},\n",
              "  {'id': 336, 'name': 'turtle', 'supercategory': 'none'},\n",
              "  {'id': 337, 'name': 'ukelele', 'supercategory': 'none'},\n",
              "  {'id': 338, 'name': 'umbrella', 'supercategory': 'none'},\n",
              "  {'id': 339, 'name': 'vacuum', 'supercategory': 'none'},\n",
              "  {'id': 340, 'name': 'vanilla', 'supercategory': 'none'},\n",
              "  {'id': 341, 'name': 'vase', 'supercategory': 'none'},\n",
              "  {'id': 342, 'name': 'vitamins', 'supercategory': 'none'},\n",
              "  {'id': 343, 'name': 'walker', 'supercategory': 'none'},\n",
              "  {'id': 344, 'name': 'washing machine', 'supercategory': 'none'},\n",
              "  {'id': 345, 'name': 'watch (object)', 'supercategory': 'none'},\n",
              "  {'id': 346, 'name': 'water (beverage)', 'supercategory': 'none'},\n",
              "  {'id': 347, 'name': 'water (not beverage)', 'supercategory': 'none'},\n",
              "  {'id': 348, 'name': 'wind', 'supercategory': 'none'},\n",
              "  {'id': 349, 'name': 'window', 'supercategory': 'none'},\n",
              "  {'id': 350, 'name': 'wine glass', 'supercategory': 'none'},\n",
              "  {'id': 351, 'name': 'wipes', 'supercategory': 'none'},\n",
              "  {'id': 352, 'name': 'wolf', 'supercategory': 'none'},\n",
              "  {'id': 353, 'name': 'yogurt', 'supercategory': 'none'},\n",
              "  {'id': 354, 'name': 'zebra', 'supercategory': 'none'}],\n",
              " 'images': [{'file_name': 'http://langcog.stanford.edu/expts/saycam/frames/18080-S_20140320_1703_01.mp4-5250.jpg',\n",
              "   'height': 480,\n",
              "   'id': 5250,\n",
              "   'width': 640}],\n",
              " 'type': 'instances'}"
            ]
          },
          "metadata": {
            "tags": []
          },
          "execution_count": 128
        }
      ]
    },
    {
      "cell_type": "code",
      "metadata": {
        "id": "xvjOdN7AtUuW"
      },
      "source": [
        "\"\"\"\"\"\n",
        "# take out all the empty responses\n",
        "responses = list(filter(None, responses)) \n",
        "\n",
        "answers = {}                    # initialize an empty dictionary where we'll put the annotations as values\n",
        "assignmentIds = []              # initialize a list of assignment Ids for later use (using these as keys)\n",
        "inputImage = {}\n",
        "for response in responses:\n",
        "  print(response)\n",
        "  for assignment in response:\n",
        "    \n",
        "    # Retrieve the attributes for each Assignment\n",
        "    worker_id = assignment['WorkerId']\n",
        "    assignment_id = assignment['AssignmentId']\n",
        "    assignmentIds.append(assignment_id)\n",
        "    \n",
        "    # Retrieve the value submitted by the Worker from the XML\n",
        "    answer_dict = xmltodict.parse(assignment['Answer'])\n",
        "    print(json.loads(answer_dict['QuestionFormAnswers']['Answer']['FreeText'])[0]['annotatedResult']['boundingBoxes'])\n",
        "    answer = json.loads(answer_dict['QuestionFormAnswers']['Answer']['FreeText'])\n",
        "\n",
        "    for result in answer:\n",
        "      # add list of dictionaries with bounding box information to the dictionary of results\n",
        "      answers[assignment_id] = result['annotatedResult']['boundingBoxes']\n",
        "      inputImage[assignment_id] = result['annotatedResult']['inputImageProperties']\n",
        "\n",
        "\"\"\"\"\""
      ],
      "execution_count": null,
      "outputs": []
    },
    {
      "cell_type": "markdown",
      "metadata": {
        "id": "iNrEonEFmdcf"
      },
      "source": [
        "# Annotation Task Analyses"
      ]
    },
    {
      "cell_type": "markdown",
      "metadata": {
        "id": "mX8_gnvUt2Ne"
      },
      "source": [
        "Average number of Workers per Image: \n",
        "\n",
        "1.   13 of the images have 4 annotations each because our big results dataframe includes the first two mini batches where each of the 13 images were labeled by 1 worker\n",
        "2.   If we just do it based on the latest results, each of the images are annotated by 2 workers\n",
        "\n"
      ]
    },
    {
      "cell_type": "code",
      "metadata": {
        "id": "NEqTXpHblz7e",
        "outputId": "1d333cc4-9b26-4269-e48b-d853047f8a1a",
        "colab": {
          "base_uri": "https://localhost:8080/",
          "height": 51
        }
      },
      "source": [
        "total = 0\n",
        "count = 0\n",
        "for imKey in images:\n",
        "  nw = images[imKey]['image'].numWorkers\n",
        "  total += nw\n",
        "  count+=1\n",
        "  if count == 13:\n",
        "    print(total/13)\n",
        "    total = 0\n",
        "averageWorkerPerImage = total/(len(images)-13)\n",
        "averageWorkerPerImage"
      ],
      "execution_count": 191,
      "outputs": [
        {
          "output_type": "stream",
          "text": [
            "4.0\n"
          ],
          "name": "stdout"
        },
        {
          "output_type": "execute_result",
          "data": {
            "text/plain": [
              "2.0"
            ]
          },
          "metadata": {
            "tags": []
          },
          "execution_count": 191
        }
      ]
    },
    {
      "cell_type": "markdown",
      "metadata": {
        "id": "k_2fM_82mhzV"
      },
      "source": [
        "Average number of images completed per worker"
      ]
    },
    {
      "cell_type": "markdown",
      "metadata": {
        "id": "DquQZKdVmlCN"
      },
      "source": [
        "Average number of labels per image? Are people going up to 5?"
      ]
    },
    {
      "cell_type": "markdown",
      "metadata": {
        "id": "ytZV48tOmn1A"
      },
      "source": [
        "Number of bad actors (is this 5? 10? 50% of all workers?)"
      ]
    },
    {
      "cell_type": "markdown",
      "metadata": {
        "id": "b8j73sRhmu3-"
      },
      "source": [
        "# Label Consistencies\n",
        "\n",
        "How consistent are the labels people give?\n"
      ]
    },
    {
      "cell_type": "markdown",
      "metadata": {
        "id": "KLP2pq6jmzu1"
      },
      "source": [
        "How often do we have objects labelled with the same “label” and 75% overlap between bounding boxes?"
      ]
    },
    {
      "cell_type": "markdown",
      "metadata": {
        "id": "6CUJk4V4m85s"
      },
      "source": [
        "How consistent are the AREAS of the image that turkers label?\n"
      ]
    },
    {
      "cell_type": "markdown",
      "metadata": {
        "id": "tPW8DIPal2az"
      },
      "source": [
        "# Label Frequencies"
      ]
    },
    {
      "cell_type": "markdown",
      "metadata": {
        "id": "v_F3raCzl-cP"
      },
      "source": [
        "Frequencies of labels per image"
      ]
    },
    {
      "cell_type": "code",
      "metadata": {
        "id": "ZIlVRLKPmKvg"
      },
      "source": [
        ""
      ],
      "execution_count": null,
      "outputs": []
    },
    {
      "cell_type": "markdown",
      "metadata": {
        "id": "fDkTr2JRmEhW"
      },
      "source": [
        "Frequencies of each label over image set"
      ]
    },
    {
      "cell_type": "code",
      "metadata": {
        "id": "sVMA5pyhmJr6"
      },
      "source": [
        "object_inst = {}\n",
        "for id in answers:\n",
        "  for answer in answers[id]['boundingBoxes']:\n",
        "    if answer['label'] in object_inst.keys(): \n",
        "      object_inst[answer['label']] += 1\n",
        "    else:\n",
        "      object_inst[answer['label']] = 1"
      ],
      "execution_count": null,
      "outputs": []
    },
    {
      "cell_type": "markdown",
      "metadata": {
        "id": "xF48G2-lmJ_c"
      },
      "source": [
        ""
      ]
    }
  ]
}